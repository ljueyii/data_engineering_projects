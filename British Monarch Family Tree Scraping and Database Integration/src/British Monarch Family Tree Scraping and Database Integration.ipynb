{
 "cells": [
  {
   "cell_type": "markdown",
   "metadata": {},
   "source": [
    "## Task a) Scrape the Family Tree of British Monarchs\n",
    "1. Scrape the family tree of British monarchs from the Wikipedia page using the **BeautifulSoup** library.\n",
    "2. Store the scraped monarchs' data in an SQLite table `british_monarch_family_tree` with the following fields:\n",
    "- `id`: Primary key\n",
    "- `name`: Monarch's name\n",
    "- `wiki_url`: Monarch’s Wikipedia URL"
   ]
  },
  {
   "cell_type": "code",
   "execution_count": null,
   "metadata": {},
   "outputs": [],
   "source": [
    "import requests\n",
    "from bs4 import BeautifulSoup\n",
    "user_agent = {'User-agent': 'Mozilla/5.0'}\n",
    "\n",
    "# Retrieve the page below\n",
    "url = 'https://en.wikipedia.org/w/index.php?title=Family_tree_of_British_monarchs&oldid=1043575587'\n",
    "page = requests.get(url, headers = user_agent)\n",
    "soup = BeautifulSoup(page.content)\n",
    "\n",
    "# Check\n",
    "#soup "
   ]
  },
  {
   "cell_type": "code",
   "execution_count": null,
   "metadata": {},
   "outputs": [],
   "source": [
    "table = soup.find('table')\n",
    "tbody = table.find('tbody')\n",
    "tagA = tbody.find_all('a')"
   ]
  },
  {
   "cell_type": "code",
   "execution_count": null,
   "metadata": {},
   "outputs": [],
   "source": [
    "monarchs = [] \n",
    "for a in tagA:\n",
    "    if a.find('img'):\n",
    "        pass\n",
    "    elif (\"Duke of Windsor\" in a.text) or (\"House\" in a.text) or (\"House\" in a.attrs['href']):\n",
    "        pass\n",
    "    else:\n",
    "        monarchs.append({'name':a.attrs['title'], 'wiki_url':a.attrs['href']})\n",
    "        \n",
    "len(monarchs) # Checks monarch - a list of dict"
   ]
  },
  {
   "cell_type": "code",
   "execution_count": null,
   "metadata": {},
   "outputs": [],
   "source": [
    "# Handling George III redirecting of URL\n",
    "\n",
    "for monarch in monarchs:\n",
    "    if monarch['name'] == 'George III of the United Kingdom' or monarch['name'] == 'George III':\n",
    "        monarch['name'] = 'George III'\n",
    "        monarch['wiki_url'] = '/wiki/George_III'  # Replace with the desired URL\n",
    "        break  # Exit the loop once the update is made"
   ]
  },
  {
   "cell_type": "code",
   "execution_count": null,
   "metadata": {},
   "outputs": [],
   "source": [
    "import sqlite3\n",
    "conn = sqlite3.connect('British_Monarchs.db')\n",
    "\n",
    "cur = conn.cursor()\n",
    "cur.execute('DROP TABLE IF EXISTS british_monarch_family_tree ')\n",
    "cur.execute('CREATE TABLE british_monarch_family_tree (id INTEGER PRIMARY KEY AUTOINCREMENT, name TEXT, wiki_url TEXT)')\n",
    "\n",
    "# commit SQL statement to database\n",
    "conn.commit()"
   ]
  },
  {
   "cell_type": "code",
   "execution_count": null,
   "metadata": {},
   "outputs": [],
   "source": [
    "for item in monarchs:\n",
    "    cur.execute('INSERT INTO british_monarch_family_tree (name, wiki_url) VALUES (?, ?)',(item['name'], item['wiki_url']))\n",
    "conn.commit()"
   ]
  },
  {
   "cell_type": "markdown",
   "metadata": {},
   "source": [
    "## Task b) Add Parent Information to the Family Tree\n",
    "1. Modify the `british_monarch_family_tree` table to include two new fields:\n",
    "- `father_id`: Foreign key referencing the `id` of the monarch’s father\n",
    "- `mother_id`: Foreign key referencing the `id` of the monarch’s mother\n",
    "2. Scrape the father and mother information from the respective monarch's Wikipedia pages.\n",
    "3. If no information is available, set `null` values for missing parents.\n",
    "4. If a parent does not exist in the table, add them and set the relationship (`father_id` and `mother_id`)."
   ]
  },
  {
   "cell_type": "code",
   "execution_count": null,
   "metadata": {},
   "outputs": [],
   "source": [
    "# Adding 2 new field: father_id and mother_id\n",
    "cur.execute('ALTER TABLE british_monarch_family_tree ADD father_id INTEGER')\n",
    "cur.execute('ALTER TABLE british_monarch_family_tree ADD mother_id INTEGER')\n",
    "\n",
    "Namelist = {}\n",
    "\n",
    "cur.execute('SELECT wiki_url,id FROM british_monarch_family_tree')\n",
    "myresult = cur.fetchall()\n",
    "for row in myresult:\n",
    "    Namelist[row[0]]=row[1]"
   ]
  },
  {
   "cell_type": "code",
   "execution_count": null,
   "metadata": {},
   "outputs": [],
   "source": [
    "key_iterable = Namelist.keys()\n",
    "key_list = list(key_iterable)"
   ]
  },
  {
   "cell_type": "code",
   "execution_count": null,
   "metadata": {},
   "outputs": [],
   "source": [
    "# Updating Record with Father's and Mother's ID\n",
    "\n",
    "for i in key_list:\n",
    "    domain = 'https://en.wikipedia.org'\n",
    "    page = requests.get(domain + i, headers=user_agent)\n",
    "    \n",
    "    # Check if the request was successful\n",
    "    if page.status_code != 200:\n",
    "        print(f\"Failed to retrieve {i}\")\n",
    "        continue  # Skip to the next iteration if the page is unavailable\n",
    "    \n",
    "    soup = BeautifulSoup(page.content, 'html.parser')\n",
    "\n",
    "    # Initialize variables to avoid potential issues\n",
    "    FatherName = None\n",
    "    FatherURL = None\n",
    "    MotherName = None\n",
    "    MotherURL = None\n",
    "\n",
    "    # Scraping for Father and Mother\n",
    "    table = soup.find('table', {'class': 'infobox vcard'})\n",
    "    if table:\n",
    "        tbody = table.find('tbody')\n",
    "        tr = tbody.find_all('tr') if tbody else []\n",
    "\n",
    "        for r in tr:\n",
    "            H = r.find_all('th')\n",
    "            for h in H:\n",
    "                if h.text == 'Father':\n",
    "                    TD = r.find_all('td')\n",
    "                    for td in TD:\n",
    "                        if td.find('a'):\n",
    "                            FatherName = td.find('a')['title']\n",
    "                            FatherURL = td.find('a')['href']\n",
    "                elif h.text == 'Mother':\n",
    "                    TD = r.find_all('td')\n",
    "                    for td in TD:\n",
    "                        if td.find('a'):\n",
    "                            MotherName = td.find('a')['title']\n",
    "                            MotherURL = td.find('a')['href']\n",
    "\n",
    "    # Update or Insert Father if necessary\n",
    "    if FatherURL:\n",
    "        if FatherURL in Namelist:\n",
    "            FatherID = Namelist[FatherURL]\n",
    "        else:\n",
    "            cur.execute('INSERT INTO british_monarch_family_tree (name, wiki_url) VALUES (?, ?)', (FatherName, FatherURL))\n",
    "            cur.execute('SELECT id FROM british_monarch_family_tree WHERE wiki_url = ?', (FatherURL,))\n",
    "            FatherID = cur.fetchone()[0]\n",
    "            Namelist[FatherURL] = FatherID\n",
    "\n",
    "    # Update or Insert Mother if necessary\n",
    "    if MotherURL:\n",
    "        if MotherURL in Namelist:\n",
    "            MotherID = Namelist[MotherURL]\n",
    "        else:\n",
    "            cur.execute('INSERT INTO british_monarch_family_tree (name, wiki_url) VALUES (?, ?)', (MotherName, MotherURL))\n",
    "            cur.execute('SELECT id FROM british_monarch_family_tree WHERE wiki_url = ?', (MotherURL,))\n",
    "            MotherID = cur.fetchone()[0]\n",
    "            Namelist[MotherURL] = MotherID\n",
    "\n",
    "    # Ensure FatherID and MotherID are not None and update the database\n",
    "    if FatherID is not None and MotherID is not None:\n",
    "        # Explicitly convert FatherID and MotherID to integers\n",
    "        Updatequery = 'UPDATE british_monarch_family_tree SET father_id = ?, mother_id = ? WHERE wiki_url = ?'\n",
    "        cur.execute(Updatequery, (int(FatherID), int(MotherID), i))\n",
    "\n",
    "conn.commit()\n"
   ]
  },
  {
   "cell_type": "markdown",
   "metadata": {},
   "source": [
    "## Task c) Query Children of King \"George III\"\n",
    "- Use SQLite3 to find and return all children of King George III using his Wikipedia page [here](https://en.wikipedia.org/wiki/George_III)."
   ]
  },
  {
   "cell_type": "code",
   "execution_count": null,
   "metadata": {},
   "outputs": [],
   "source": [
    "url = '/wiki/George_III'\n",
    "\n",
    "# Find George III id\n",
    "query = 'SELECT id, wiki_url FROM british_monarch_family_tree WHERE wiki_url = \"{}\"'.format(url)\n",
    "cur.execute(query)\n",
    "myresult = cur.fetchall()\n",
    "for row in myresult:\n",
    "    GeorgeIII_id = row[0]\n",
    "\n",
    "# Find all rows with father_id as George III's id\n",
    "GeorgeIII_Children = []\n",
    "query = 'SELECT name, father_id, wiki_url FROM british_monarch_family_tree WHERE father_id = \"{}\"'.format(GeorgeIII_id)\n",
    "cur.execute(query)\n",
    "myresult = cur.fetchall()\n",
    "\n",
    "\n",
    "if len(myresult) == 0:\n",
    "    print('None Found')\n",
    "else:\n",
    "    print(\"The following are children of King George III:\")\n",
    "    for row in myresult:\n",
    "        print(\"-\",row[0])        \n"
   ]
  },
  {
   "cell_type": "markdown",
   "metadata": {},
   "source": [
    "## Task d) Query Father and Mother of King \"George III\"\n",
    "- Use SQLite3 to find the father and mother of King George III from the database."
   ]
  },
  {
   "cell_type": "code",
   "execution_count": null,
   "metadata": {},
   "outputs": [],
   "source": [
    "# Apply SQLite3 library to find the father and mother of King \"George III\"\n",
    "\n",
    "# Obtaining George III father's and mother's id\n",
    "Parentquery = 'SELECT name, father_id, mother_id FROM british_monarch_family_tree WHERE id = \"{}\"'.format(GeorgeIII_id)\n",
    "cur.execute(Parentquery)\n",
    "myresult = cur.fetchall()\n",
    "for row in myresult:\n",
    "    GeorgeIII_fatherId = row[1]\n",
    "    GeorgeIII_motherId = row[2]\n",
    "\n",
    "# Finding George's Parents with the respective obtained IDs\n",
    "GeorgeIII_Parents = []\n",
    "Fatherquery = 'SELECT name FROM british_monarch_family_tree WHERE id = \"{}\"'.format(GeorgeIII_fatherId)\n",
    "cur.execute(Fatherquery)\n",
    "myresult = cur.fetchall()\n",
    "for row in myresult:\n",
    "    GeorgeIII_Parents.append(row[0])\n",
    "Motherquery = 'SELECT name FROM british_monarch_family_tree WHERE id = \"{}\"'.format(GeorgeIII_motherId)\n",
    "cur.execute(Motherquery)\n",
    "myresult = cur.fetchall()\n",
    "for row in myresult:\n",
    "    GeorgeIII_Parents.append(row[0])\n",
    "\n",
    "# Answer\n",
    "print(\"The following are parents of King George III: \\n Father: {}\\n Mother: {}\".format(GeorgeIII_Parents[0],GeorgeIII_Parents[1]))"
   ]
  },
  {
   "cell_type": "markdown",
   "metadata": {},
   "source": [
    "## Task e) Query Siblings of King \"George IV\"\n",
    "- Use SQLite3 to find all siblings of King George IV using his Wikipedia page [here](https://en.wikipedia.org/wiki/George_IV)."
   ]
  },
  {
   "cell_type": "code",
   "execution_count": null,
   "metadata": {},
   "outputs": [],
   "source": [
    "# IMPT! -> On the Wikipedia Page, '/wiki/George_IV' has been updated to be redirected from '/wiki/George_IV_of_the_United_Kingdom'\n",
    "GeorgeIVurl = '/wiki/George_IV_of_the_United_Kingdom'\n",
    "\n",
    "# Find George IV's parents' IDs\n",
    "Parentquery = 'SELECT name, father_id, mother_id FROM british_monarch_family_tree WHERE wiki_url = \"{}\"'.format(GeorgeIVurl)\n",
    "cur.execute(Parentquery)\n",
    "myresult = cur.fetchall()\n",
    "for row in myresult:\n",
    "    GeorgeIV_fatherId = row[1]\n",
    "    GeorgeIV_motherId = row[2]\n",
    "\n",
    "GeorgeIV_Siblings = []\n",
    "query = 'SELECT name FROM british_monarch_family_tree WHERE wiki_url != \"{}\" AND (father_id = \"{}\" OR mother_id = \"{}\")'.format(GeorgeIVurl, GeorgeIV_fatherId, GeorgeIV_motherId)\n",
    "cur.execute(query)\n",
    "myresult = cur.fetchall()\n",
    "for row in myresult:\n",
    "    GeorgeIV_Siblings.append(row[0])\n",
    "\n",
    "# Answer\n",
    "print(\"The following are siblings of King George IV:\")\n",
    "for sibling in GeorgeIV_Siblings:\n",
    "    print(\"-\",sibling)"
   ]
  },
  {
   "cell_type": "markdown",
   "metadata": {},
   "source": [
    "## Task f) Query Descendants of \"Queen Victoria\"\n",
    "- Use SQLite3 and Pandas DataFrame to find all descendants of Queen Victoria from the database."
   ]
  },
  {
   "cell_type": "code",
   "execution_count": null,
   "metadata": {},
   "outputs": [],
   "source": [
    "import pandas as pd\n",
    "\n",
    "df = pd.read_sql_query(\"SELECT * from british_monarch_family_tree\", conn)\n",
    "\n",
    "# Find Queen Victoria Row Index\n",
    "df.loc[df['name'] == 'Queen Victoria']"
   ]
  },
  {
   "cell_type": "code",
   "execution_count": null,
   "metadata": {},
   "outputs": [],
   "source": [
    "AfterQueenVictoria = df.loc[87+1:]\n",
    "QueenVictoriaDescendantsDF = AfterQueenVictoria.dropna()\n",
    "QueenVictoriaDescendantsDF.reset_index(drop=True, inplace=True)\n",
    "QueenVictoriaDescendantsDF"
   ]
  }
 ],
 "metadata": {
  "kernelspec": {
   "display_name": "Python 3 (ipykernel)",
   "language": "python",
   "name": "python3"
  },
  "language_info": {
   "codemirror_mode": {
    "name": "ipython",
    "version": 3
   },
   "file_extension": ".py",
   "mimetype": "text/x-python",
   "name": "python",
   "nbconvert_exporter": "python",
   "pygments_lexer": "ipython3",
   "version": "3.9.7"
  }
 },
 "nbformat": 4,
 "nbformat_minor": 4
}
