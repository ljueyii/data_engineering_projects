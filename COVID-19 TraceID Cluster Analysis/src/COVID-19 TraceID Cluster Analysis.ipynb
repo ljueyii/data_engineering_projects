{
 "cells": [
  {
   "cell_type": "markdown",
   "metadata": {},
   "source": [
    "## Task a) Number of Unique People per Cluster\n",
    "To compute the number of unique people in each cluster, which is represented by a unique trace ID across all 5 datasets."
   ]
  },
  {
   "cell_type": "code",
   "execution_count": 7,
   "metadata": {},
   "outputs": [
    {
     "name": "stdout",
     "output_type": "stream",
     "text": [
      "                  f0                 f1                 trace_id\n",
      "0  PERSON_0000000016  PERSON_0000000914  TRACE_PERSON_0000000016\n",
      "1  PERSON_0000000019  PERSON_0000000431  TRACE_PERSON_0000000019\n",
      "2  PERSON_0000000130  PERSON_0000000318  TRACE_PERSON_0000000130\n",
      "3  PERSON_0000000282  PERSON_0000000539  TRACE_PERSON_0000000282\n",
      "4  PERSON_0000000296  PERSON_0000000752  TRACE_PERSON_0000000296\n",
      "                     f0                 f1                 trace_id\n",
      "1440  PERSON_0000000535  PERSON_0000000459  TRACE_PERSON_0000000535\n",
      "1441  PERSON_0000000616  PERSON_0000000690  TRACE_PERSON_0000000616\n",
      "1442  PERSON_0000000713  PERSON_0000000111  TRACE_PERSON_0000000713\n",
      "1443  PERSON_0000000758  PERSON_0000000024  TRACE_PERSON_0000000758\n",
      "1444  PERSON_0000000945  PERSON_0000000405  TRACE_PERSON_0000000945\n"
     ]
    }
   ],
   "source": [
    "import pandas as pd\n",
    "\n",
    "df_f0_f1 = pd.read_csv('../data/f0_f1.csv')\n",
    "df_f1_f2 = pd.read_csv('../data/f1_f2.csv')\n",
    "df_f2_f3 = pd.read_csv('../data/f2_f3.csv')\n",
    "df_f3_f4 = pd.read_csv('../data/f3_f4.csv')\n",
    "df_f4_f5 = pd.read_csv('../data/f4_f5.csv')\n",
    "\n",
    "print(df_f0_f1.head())\n",
    "print(df_f0_f1.tail())"
   ]
  },
  {
   "cell_type": "code",
   "execution_count": 8,
   "metadata": {},
   "outputs": [
    {
     "name": "stdout",
     "output_type": "stream",
     "text": [
      "(1445, 3)\n",
      "(910, 3)\n",
      "(521, 3)\n",
      "(264, 3)\n",
      "(134, 3)\n"
     ]
    }
   ],
   "source": [
    "print(df_f0_f1.shape)\n",
    "print(df_f1_f2.shape)\n",
    "print(df_f2_f3.shape)\n",
    "print(df_f3_f4.shape)\n",
    "print(df_f4_f5.shape)"
   ]
  },
  {
   "cell_type": "code",
   "execution_count": 9,
   "metadata": {},
   "outputs": [
    {
     "data": {
      "text/html": [
       "<div>\n",
       "<style scoped>\n",
       "    .dataframe tbody tr th:only-of-type {\n",
       "        vertical-align: middle;\n",
       "    }\n",
       "\n",
       "    .dataframe tbody tr th {\n",
       "        vertical-align: top;\n",
       "    }\n",
       "\n",
       "    .dataframe thead th {\n",
       "        text-align: right;\n",
       "    }\n",
       "</style>\n",
       "<table border=\"1\" class=\"dataframe\">\n",
       "  <thead>\n",
       "    <tr style=\"text-align: right;\">\n",
       "      <th></th>\n",
       "      <th>trace_id</th>\n",
       "      <th>f5</th>\n",
       "    </tr>\n",
       "  </thead>\n",
       "  <tbody>\n",
       "    <tr>\n",
       "      <th>13</th>\n",
       "      <td>TRACE_PERSON_0000000003</td>\n",
       "      <td>PERSON_0000000138</td>\n",
       "    </tr>\n",
       "    <tr>\n",
       "      <th>68</th>\n",
       "      <td>TRACE_PERSON_0000000003</td>\n",
       "      <td>PERSON_0000000115</td>\n",
       "    </tr>\n",
       "    <tr>\n",
       "      <th>57</th>\n",
       "      <td>TRACE_PERSON_0000000005</td>\n",
       "      <td>PERSON_0000000195</td>\n",
       "    </tr>\n",
       "    <tr>\n",
       "      <th>106</th>\n",
       "      <td>TRACE_PERSON_0000000084</td>\n",
       "      <td>PERSON_0000000595</td>\n",
       "    </tr>\n",
       "    <tr>\n",
       "      <th>51</th>\n",
       "      <td>TRACE_PERSON_0000000084</td>\n",
       "      <td>PERSON_0000000595</td>\n",
       "    </tr>\n",
       "    <tr>\n",
       "      <th>...</th>\n",
       "      <td>...</td>\n",
       "      <td>...</td>\n",
       "    </tr>\n",
       "    <tr>\n",
       "      <th>34</th>\n",
       "      <td>TRACE_PERSON_0000000958</td>\n",
       "      <td>PERSON_0000000067</td>\n",
       "    </tr>\n",
       "    <tr>\n",
       "      <th>38</th>\n",
       "      <td>TRACE_PERSON_0000000958</td>\n",
       "      <td>PERSON_0000000601</td>\n",
       "    </tr>\n",
       "    <tr>\n",
       "      <th>82</th>\n",
       "      <td>TRACE_PERSON_0000000958</td>\n",
       "      <td>PERSON_0000000508</td>\n",
       "    </tr>\n",
       "    <tr>\n",
       "      <th>93</th>\n",
       "      <td>TRACE_PERSON_0000000958</td>\n",
       "      <td>PERSON_0000000991</td>\n",
       "    </tr>\n",
       "    <tr>\n",
       "      <th>52</th>\n",
       "      <td>TRACE_PERSON_0000000958</td>\n",
       "      <td>PERSON_0000000048</td>\n",
       "    </tr>\n",
       "  </tbody>\n",
       "</table>\n",
       "<p>134 rows × 2 columns</p>\n",
       "</div>"
      ],
      "text/plain": [
       "                    trace_id                 f5\n",
       "13   TRACE_PERSON_0000000003  PERSON_0000000138\n",
       "68   TRACE_PERSON_0000000003  PERSON_0000000115\n",
       "57   TRACE_PERSON_0000000005  PERSON_0000000195\n",
       "106  TRACE_PERSON_0000000084  PERSON_0000000595\n",
       "51   TRACE_PERSON_0000000084  PERSON_0000000595\n",
       "..                       ...                ...\n",
       "34   TRACE_PERSON_0000000958  PERSON_0000000067\n",
       "38   TRACE_PERSON_0000000958  PERSON_0000000601\n",
       "82   TRACE_PERSON_0000000958  PERSON_0000000508\n",
       "93   TRACE_PERSON_0000000958  PERSON_0000000991\n",
       "52   TRACE_PERSON_0000000958  PERSON_0000000048\n",
       "\n",
       "[134 rows x 2 columns]"
      ]
     },
     "execution_count": 9,
     "metadata": {},
     "output_type": "execute_result"
    }
   ],
   "source": [
    "df_f5 = df_f4_f5[['trace_id','f5']].sort_values('trace_id') \n",
    "df_f5 # extracting f5 values"
   ]
  },
  {
   "cell_type": "code",
   "execution_count": 10,
   "metadata": {},
   "outputs": [
    {
     "data": {
      "text/plain": [
       "20"
      ]
     },
     "execution_count": 10,
     "metadata": {},
     "output_type": "execute_result"
    }
   ],
   "source": [
    "df_f5.duplicated().sum()"
   ]
  },
  {
   "cell_type": "code",
   "execution_count": 11,
   "metadata": {},
   "outputs": [
    {
     "data": {
      "text/plain": [
       "(114, 2)"
      ]
     },
     "execution_count": 11,
     "metadata": {},
     "output_type": "execute_result"
    }
   ],
   "source": [
    "df_f5_nodupli = df_f5.drop_duplicates()\n",
    "df_f5_nodupli.shape # unique f5 based on traceID "
   ]
  },
  {
   "cell_type": "code",
   "execution_count": 12,
   "metadata": {},
   "outputs": [],
   "source": [
    "#extracting f4 data\n",
    "df_f4_1 = df_f3_f4[['trace_id','f4']].sort_values('trace_id') \n",
    "df_f4_2 = df_f4_f5[['trace_id','f4']].sort_values('trace_id') "
   ]
  },
  {
   "cell_type": "code",
   "execution_count": 13,
   "metadata": {},
   "outputs": [
    {
     "name": "stdout",
     "output_type": "stream",
     "text": [
      "(264, 2)\n",
      "(134, 2)\n"
     ]
    }
   ],
   "source": [
    "# check the dimension\n",
    "print(df_f4_1.shape)\n",
    "print(df_f4_2.shape)"
   ]
  },
  {
   "cell_type": "code",
   "execution_count": 14,
   "metadata": {},
   "outputs": [
    {
     "name": "stdout",
     "output_type": "stream",
     "text": [
      "23\n",
      "60\n"
     ]
    }
   ],
   "source": [
    "# dropping duplicates\n",
    "print(df_f4_1.duplicated().sum())\n",
    "print(df_f4_2.duplicated().sum())"
   ]
  },
  {
   "cell_type": "code",
   "execution_count": 15,
   "metadata": {},
   "outputs": [
    {
     "name": "stdout",
     "output_type": "stream",
     "text": [
      "(241, 2)\n",
      "(74, 2)\n"
     ]
    }
   ],
   "source": [
    "df_f4_1_nodupli = df_f4_1.drop_duplicates()\n",
    "df_f4_2_nodupli = df_f4_2.drop_duplicates()\n",
    "\n",
    "# verify using dimension\n",
    "print(df_f4_1_nodupli.shape)\n",
    "print(df_f4_2_nodupli.shape)"
   ]
  },
  {
   "cell_type": "code",
   "execution_count": 16,
   "metadata": {},
   "outputs": [
    {
     "data": {
      "text/plain": [
       "0"
      ]
     },
     "execution_count": 16,
     "metadata": {},
     "output_type": "execute_result"
    }
   ],
   "source": [
    "# merging to get full F4 data\n",
    "df_f4_nodupli = df_f4_1_nodupli.merge(df_f4_2_nodupli, left_on=['trace_id','f4'], right_on=['trace_id','f4'], how='outer')\n",
    "df_f4_nodupli.duplicated().sum() # check"
   ]
  },
  {
   "cell_type": "code",
   "execution_count": 17,
   "metadata": {},
   "outputs": [],
   "source": [
    "#extracting f3 data\n",
    "df_f3_1 = df_f2_f3[['trace_id','f3']].sort_values('trace_id') \n",
    "df_f3_2 = df_f3_f4[['trace_id','f3']].sort_values('trace_id') "
   ]
  },
  {
   "cell_type": "code",
   "execution_count": 18,
   "metadata": {},
   "outputs": [
    {
     "name": "stdout",
     "output_type": "stream",
     "text": [
      "(521, 2)\n",
      "(264, 2)\n"
     ]
    }
   ],
   "source": [
    "# check the dimension\n",
    "print(df_f3_1.shape)\n",
    "print(df_f3_2.shape)"
   ]
  },
  {
   "cell_type": "code",
   "execution_count": 19,
   "metadata": {},
   "outputs": [
    {
     "name": "stdout",
     "output_type": "stream",
     "text": [
      "53\n",
      "116\n"
     ]
    }
   ],
   "source": [
    "# dropping duplicates\n",
    "print(df_f3_1.duplicated().sum())\n",
    "print(df_f3_2.duplicated().sum())"
   ]
  },
  {
   "cell_type": "code",
   "execution_count": 20,
   "metadata": {},
   "outputs": [
    {
     "name": "stdout",
     "output_type": "stream",
     "text": [
      "(468, 2)\n",
      "(148, 2)\n"
     ]
    }
   ],
   "source": [
    "df_f3_1_nodupli = df_f3_1.drop_duplicates()\n",
    "df_f3_2_nodupli = df_f3_2.drop_duplicates()\n",
    "\n",
    "# verify using dimension\n",
    "print(df_f3_1_nodupli.shape)\n",
    "print(df_f3_2_nodupli.shape)"
   ]
  },
  {
   "cell_type": "code",
   "execution_count": 21,
   "metadata": {},
   "outputs": [
    {
     "data": {
      "text/plain": [
       "0"
      ]
     },
     "execution_count": 21,
     "metadata": {},
     "output_type": "execute_result"
    }
   ],
   "source": [
    "# merging to get full F3 data\n",
    "df_f3_nodupli = df_f3_1_nodupli.merge(df_f3_2_nodupli, left_on=['trace_id','f3'], right_on=['trace_id','f3'], how='outer')\n",
    "df_f3_nodupli.duplicated().sum() # validate"
   ]
  },
  {
   "cell_type": "code",
   "execution_count": 22,
   "metadata": {},
   "outputs": [],
   "source": [
    "#extracting f2 data\n",
    "df_f2_1 = df_f1_f2[['trace_id','f2']].sort_values('trace_id') \n",
    "df_f2_2 = df_f2_f3[['trace_id','f2']].sort_values('trace_id') "
   ]
  },
  {
   "cell_type": "code",
   "execution_count": 23,
   "metadata": {},
   "outputs": [
    {
     "name": "stdout",
     "output_type": "stream",
     "text": [
      "(910, 2)\n",
      "(521, 2)\n"
     ]
    }
   ],
   "source": [
    "# check the dimension\n",
    "print(df_f2_1.shape)\n",
    "print(df_f2_2.shape)"
   ]
  },
  {
   "cell_type": "code",
   "execution_count": 24,
   "metadata": {},
   "outputs": [
    {
     "name": "stdout",
     "output_type": "stream",
     "text": [
      "81\n",
      "234\n"
     ]
    }
   ],
   "source": [
    "# drop duplicates\n",
    "print(df_f2_1.duplicated().sum())\n",
    "print(df_f2_2.duplicated().sum())"
   ]
  },
  {
   "cell_type": "code",
   "execution_count": 25,
   "metadata": {},
   "outputs": [
    {
     "name": "stdout",
     "output_type": "stream",
     "text": [
      "(829, 2)\n",
      "(287, 2)\n"
     ]
    }
   ],
   "source": [
    "df_f2_1_nodupli = df_f2_1.drop_duplicates()\n",
    "df_f2_2_nodupli = df_f2_2.drop_duplicates()\n",
    "\n",
    "# verify using dimension\n",
    "print(df_f2_1_nodupli.shape)\n",
    "print(df_f2_2_nodupli.shape)"
   ]
  },
  {
   "cell_type": "code",
   "execution_count": 26,
   "metadata": {},
   "outputs": [
    {
     "data": {
      "text/plain": [
       "0"
      ]
     },
     "execution_count": 26,
     "metadata": {},
     "output_type": "execute_result"
    }
   ],
   "source": [
    "# merging to get full F2 data\n",
    "df_f2_nodupli = df_f2_1_nodupli.merge(df_f2_2_nodupli, left_on=['trace_id','f2'], right_on=['trace_id','f2'], how='outer')\n",
    "df_f2_nodupli.duplicated().sum() # check"
   ]
  },
  {
   "cell_type": "code",
   "execution_count": 27,
   "metadata": {},
   "outputs": [
    {
     "data": {
      "text/html": [
       "<div>\n",
       "<style scoped>\n",
       "    .dataframe tbody tr th:only-of-type {\n",
       "        vertical-align: middle;\n",
       "    }\n",
       "\n",
       "    .dataframe tbody tr th {\n",
       "        vertical-align: top;\n",
       "    }\n",
       "\n",
       "    .dataframe thead th {\n",
       "        text-align: right;\n",
       "    }\n",
       "</style>\n",
       "<table border=\"1\" class=\"dataframe\">\n",
       "  <thead>\n",
       "    <tr style=\"text-align: right;\">\n",
       "      <th></th>\n",
       "      <th>trace_id</th>\n",
       "      <th>f1</th>\n",
       "    </tr>\n",
       "  </thead>\n",
       "  <tbody>\n",
       "    <tr>\n",
       "      <th>206</th>\n",
       "      <td>TRACE_PERSON_0000000003</td>\n",
       "      <td>PERSON_0000000266</td>\n",
       "    </tr>\n",
       "    <tr>\n",
       "      <th>568</th>\n",
       "      <td>TRACE_PERSON_0000000003</td>\n",
       "      <td>PERSON_0000000266</td>\n",
       "    </tr>\n",
       "    <tr>\n",
       "      <th>851</th>\n",
       "      <td>TRACE_PERSON_0000000005</td>\n",
       "      <td>PERSON_0000000930</td>\n",
       "    </tr>\n",
       "    <tr>\n",
       "      <th>576</th>\n",
       "      <td>TRACE_PERSON_0000000005</td>\n",
       "      <td>PERSON_0000000930</td>\n",
       "    </tr>\n",
       "    <tr>\n",
       "      <th>879</th>\n",
       "      <td>TRACE_PERSON_0000000005</td>\n",
       "      <td>PERSON_0000000174</td>\n",
       "    </tr>\n",
       "    <tr>\n",
       "      <th>...</th>\n",
       "      <td>...</td>\n",
       "      <td>...</td>\n",
       "    </tr>\n",
       "    <tr>\n",
       "      <th>669</th>\n",
       "      <td>TRACE_PERSON_0000000995</td>\n",
       "      <td>PERSON_0000000926</td>\n",
       "    </tr>\n",
       "    <tr>\n",
       "      <th>421</th>\n",
       "      <td>TRACE_PERSON_0000000998</td>\n",
       "      <td>PERSON_0000000105</td>\n",
       "    </tr>\n",
       "    <tr>\n",
       "      <th>237</th>\n",
       "      <td>TRACE_PERSON_0000000999</td>\n",
       "      <td>PERSON_0000000223</td>\n",
       "    </tr>\n",
       "    <tr>\n",
       "      <th>387</th>\n",
       "      <td>TRACE_PERSON_0000000999</td>\n",
       "      <td>PERSON_0000000063</td>\n",
       "    </tr>\n",
       "    <tr>\n",
       "      <th>736</th>\n",
       "      <td>TRACE_PERSON_0000000999</td>\n",
       "      <td>PERSON_0000000223</td>\n",
       "    </tr>\n",
       "  </tbody>\n",
       "</table>\n",
       "<p>910 rows × 2 columns</p>\n",
       "</div>"
      ],
      "text/plain": [
       "                    trace_id                 f1\n",
       "206  TRACE_PERSON_0000000003  PERSON_0000000266\n",
       "568  TRACE_PERSON_0000000003  PERSON_0000000266\n",
       "851  TRACE_PERSON_0000000005  PERSON_0000000930\n",
       "576  TRACE_PERSON_0000000005  PERSON_0000000930\n",
       "879  TRACE_PERSON_0000000005  PERSON_0000000174\n",
       "..                       ...                ...\n",
       "669  TRACE_PERSON_0000000995  PERSON_0000000926\n",
       "421  TRACE_PERSON_0000000998  PERSON_0000000105\n",
       "237  TRACE_PERSON_0000000999  PERSON_0000000223\n",
       "387  TRACE_PERSON_0000000999  PERSON_0000000063\n",
       "736  TRACE_PERSON_0000000999  PERSON_0000000223\n",
       "\n",
       "[910 rows x 2 columns]"
      ]
     },
     "execution_count": 27,
     "metadata": {},
     "output_type": "execute_result"
    }
   ],
   "source": [
    "df_f1 = df_f1_f2[['trace_id','f1']].sort_values('trace_id') \n",
    "# trying to get unique f1 from DF\n",
    "df_f1"
   ]
  },
  {
   "cell_type": "code",
   "execution_count": 28,
   "metadata": {},
   "outputs": [
    {
     "data": {
      "text/plain": [
       "411"
      ]
     },
     "execution_count": 28,
     "metadata": {},
     "output_type": "execute_result"
    }
   ],
   "source": [
    "df_f1.duplicated().sum()"
   ]
  },
  {
   "cell_type": "code",
   "execution_count": 29,
   "metadata": {},
   "outputs": [
    {
     "data": {
      "text/plain": [
       "(499, 2)"
      ]
     },
     "execution_count": 29,
     "metadata": {},
     "output_type": "execute_result"
    }
   ],
   "source": [
    "df_f1_nodupli = df_f1.drop_duplicates()\n",
    "df_f1_nodupli.shape # unique f5 based on traceID "
   ]
  },
  {
   "cell_type": "code",
   "execution_count": 30,
   "metadata": {},
   "outputs": [
    {
     "name": "stderr",
     "output_type": "stream",
     "text": [
      "/Users/ljueyii/opt/anaconda3/lib/python3.9/site-packages/pandas/core/frame.py:5039: SettingWithCopyWarning: \n",
      "A value is trying to be set on a copy of a slice from a DataFrame\n",
      "\n",
      "See the caveats in the documentation: https://pandas.pydata.org/pandas-docs/stable/user_guide/indexing.html#returning-a-view-versus-a-copy\n",
      "  return super().rename(\n"
     ]
    }
   ],
   "source": [
    "df_f1_nodupli.rename(columns={'f1': 'people'},inplace=True)\n",
    "df_f2_nodupli.rename(columns={'f2': 'people'},inplace=True)\n",
    "df_f3_nodupli.rename(columns={'f3': 'people'},inplace=True)\n",
    "df_f4_nodupli.rename(columns={'f4': 'people'},inplace=True)\n",
    "df_f5_nodupli.rename(columns={'f5': 'people'},inplace=True)\n"
   ]
  },
  {
   "cell_type": "code",
   "execution_count": 31,
   "metadata": {},
   "outputs": [
    {
     "data": {
      "text/html": [
       "<div>\n",
       "<style scoped>\n",
       "    .dataframe tbody tr th:only-of-type {\n",
       "        vertical-align: middle;\n",
       "    }\n",
       "\n",
       "    .dataframe tbody tr th {\n",
       "        vertical-align: top;\n",
       "    }\n",
       "\n",
       "    .dataframe thead th {\n",
       "        text-align: right;\n",
       "    }\n",
       "</style>\n",
       "<table border=\"1\" class=\"dataframe\">\n",
       "  <thead>\n",
       "    <tr style=\"text-align: right;\">\n",
       "      <th></th>\n",
       "      <th>trace_id</th>\n",
       "      <th>people</th>\n",
       "    </tr>\n",
       "  </thead>\n",
       "  <tbody>\n",
       "    <tr>\n",
       "      <th>0</th>\n",
       "      <td>TRACE_PERSON_0000000003</td>\n",
       "      <td>PERSON_0000000266</td>\n",
       "    </tr>\n",
       "    <tr>\n",
       "      <th>1</th>\n",
       "      <td>TRACE_PERSON_0000000005</td>\n",
       "      <td>PERSON_0000000930</td>\n",
       "    </tr>\n",
       "    <tr>\n",
       "      <th>2</th>\n",
       "      <td>TRACE_PERSON_0000000005</td>\n",
       "      <td>PERSON_0000000174</td>\n",
       "    </tr>\n",
       "    <tr>\n",
       "      <th>3</th>\n",
       "      <td>TRACE_PERSON_0000000005</td>\n",
       "      <td>PERSON_0000000617</td>\n",
       "    </tr>\n",
       "    <tr>\n",
       "      <th>4</th>\n",
       "      <td>TRACE_PERSON_0000000011</td>\n",
       "      <td>PERSON_0000000954</td>\n",
       "    </tr>\n",
       "    <tr>\n",
       "      <th>...</th>\n",
       "      <td>...</td>\n",
       "      <td>...</td>\n",
       "    </tr>\n",
       "    <tr>\n",
       "      <th>2146</th>\n",
       "      <td>TRACE_PERSON_0000000958</td>\n",
       "      <td>PERSON_0000000477</td>\n",
       "    </tr>\n",
       "    <tr>\n",
       "      <th>2147</th>\n",
       "      <td>TRACE_PERSON_0000000958</td>\n",
       "      <td>PERSON_0000000067</td>\n",
       "    </tr>\n",
       "    <tr>\n",
       "      <th>2148</th>\n",
       "      <td>TRACE_PERSON_0000000958</td>\n",
       "      <td>PERSON_0000000601</td>\n",
       "    </tr>\n",
       "    <tr>\n",
       "      <th>2149</th>\n",
       "      <td>TRACE_PERSON_0000000958</td>\n",
       "      <td>PERSON_0000000991</td>\n",
       "    </tr>\n",
       "    <tr>\n",
       "      <th>2150</th>\n",
       "      <td>TRACE_PERSON_0000000958</td>\n",
       "      <td>PERSON_0000000048</td>\n",
       "    </tr>\n",
       "  </tbody>\n",
       "</table>\n",
       "<p>2151 rows × 2 columns</p>\n",
       "</div>"
      ],
      "text/plain": [
       "                     trace_id             people\n",
       "0     TRACE_PERSON_0000000003  PERSON_0000000266\n",
       "1     TRACE_PERSON_0000000005  PERSON_0000000930\n",
       "2     TRACE_PERSON_0000000005  PERSON_0000000174\n",
       "3     TRACE_PERSON_0000000005  PERSON_0000000617\n",
       "4     TRACE_PERSON_0000000011  PERSON_0000000954\n",
       "...                       ...                ...\n",
       "2146  TRACE_PERSON_0000000958  PERSON_0000000477\n",
       "2147  TRACE_PERSON_0000000958  PERSON_0000000067\n",
       "2148  TRACE_PERSON_0000000958  PERSON_0000000601\n",
       "2149  TRACE_PERSON_0000000958  PERSON_0000000991\n",
       "2150  TRACE_PERSON_0000000958  PERSON_0000000048\n",
       "\n",
       "[2151 rows x 2 columns]"
      ]
     },
     "execution_count": 31,
     "metadata": {},
     "output_type": "execute_result"
    }
   ],
   "source": [
    "# concat\n",
    "concat_f1_f5 = pd.concat([df_f1_nodupli,df_f2_nodupli,df_f3_nodupli,df_f4_nodupli,df_f5_nodupli], axis=0)\n",
    "Concat_f1_f5 = concat_f1_f5.reset_index(drop=True)\n",
    "Concat_f1_f5"
   ]
  },
  {
   "cell_type": "code",
   "execution_count": 32,
   "metadata": {},
   "outputs": [
    {
     "data": {
      "text/html": [
       "<div>\n",
       "<style scoped>\n",
       "    .dataframe tbody tr th:only-of-type {\n",
       "        vertical-align: middle;\n",
       "    }\n",
       "\n",
       "    .dataframe tbody tr th {\n",
       "        vertical-align: top;\n",
       "    }\n",
       "\n",
       "    .dataframe thead th {\n",
       "        text-align: right;\n",
       "    }\n",
       "</style>\n",
       "<table border=\"1\" class=\"dataframe\">\n",
       "  <thead>\n",
       "    <tr style=\"text-align: right;\">\n",
       "      <th></th>\n",
       "      <th>trace_id</th>\n",
       "      <th>people</th>\n",
       "    </tr>\n",
       "  </thead>\n",
       "  <tbody>\n",
       "    <tr>\n",
       "      <th>0</th>\n",
       "      <td>TRACE_PERSON_0000000003</td>\n",
       "      <td>PERSON_0000000266</td>\n",
       "    </tr>\n",
       "    <tr>\n",
       "      <th>2037</th>\n",
       "      <td>TRACE_PERSON_0000000003</td>\n",
       "      <td>PERSON_0000000138</td>\n",
       "    </tr>\n",
       "    <tr>\n",
       "      <th>499</th>\n",
       "      <td>TRACE_PERSON_0000000003</td>\n",
       "      <td>PERSON_0000000468</td>\n",
       "    </tr>\n",
       "    <tr>\n",
       "      <th>500</th>\n",
       "      <td>TRACE_PERSON_0000000003</td>\n",
       "      <td>PERSON_0000000690</td>\n",
       "    </tr>\n",
       "    <tr>\n",
       "      <th>1796</th>\n",
       "      <td>TRACE_PERSON_0000000003</td>\n",
       "      <td>PERSON_0000000758</td>\n",
       "    </tr>\n",
       "    <tr>\n",
       "      <th>1328</th>\n",
       "      <td>TRACE_PERSON_0000000003</td>\n",
       "      <td>PERSON_0000000377</td>\n",
       "    </tr>\n",
       "    <tr>\n",
       "      <th>1329</th>\n",
       "      <td>TRACE_PERSON_0000000003</td>\n",
       "      <td>PERSON_0000000659</td>\n",
       "    </tr>\n",
       "    <tr>\n",
       "      <th>1330</th>\n",
       "      <td>TRACE_PERSON_0000000003</td>\n",
       "      <td>PERSON_0000000263</td>\n",
       "    </tr>\n",
       "    <tr>\n",
       "      <th>2038</th>\n",
       "      <td>TRACE_PERSON_0000000003</td>\n",
       "      <td>PERSON_0000000115</td>\n",
       "    </tr>\n",
       "    <tr>\n",
       "      <th>1333</th>\n",
       "      <td>TRACE_PERSON_0000000005</td>\n",
       "      <td>PERSON_0000000736</td>\n",
       "    </tr>\n",
       "  </tbody>\n",
       "</table>\n",
       "</div>"
      ],
      "text/plain": [
       "                     trace_id             people\n",
       "0     TRACE_PERSON_0000000003  PERSON_0000000266\n",
       "2037  TRACE_PERSON_0000000003  PERSON_0000000138\n",
       "499   TRACE_PERSON_0000000003  PERSON_0000000468\n",
       "500   TRACE_PERSON_0000000003  PERSON_0000000690\n",
       "1796  TRACE_PERSON_0000000003  PERSON_0000000758\n",
       "1328  TRACE_PERSON_0000000003  PERSON_0000000377\n",
       "1329  TRACE_PERSON_0000000003  PERSON_0000000659\n",
       "1330  TRACE_PERSON_0000000003  PERSON_0000000263\n",
       "2038  TRACE_PERSON_0000000003  PERSON_0000000115\n",
       "1333  TRACE_PERSON_0000000005  PERSON_0000000736"
      ]
     },
     "execution_count": 32,
     "metadata": {},
     "output_type": "execute_result"
    }
   ],
   "source": [
    "Concat_f1_f5.sort_values('trace_id').head(10)"
   ]
  },
  {
   "cell_type": "code",
   "execution_count": 33,
   "metadata": {},
   "outputs": [
    {
     "data": {
      "text/plain": [
       "trace_id\n",
       "TRACE_PERSON_0000000003     9\n",
       "TRACE_PERSON_0000000005    16\n",
       "TRACE_PERSON_0000000011     3\n",
       "TRACE_PERSON_0000000016    11\n",
       "TRACE_PERSON_0000000019     3\n",
       "                           ..\n",
       "TRACE_PERSON_0000000992     2\n",
       "TRACE_PERSON_0000000994     6\n",
       "TRACE_PERSON_0000000995    17\n",
       "TRACE_PERSON_0000000998     2\n",
       "TRACE_PERSON_0000000999     4\n",
       "Name: people, Length: 218, dtype: int64"
      ]
     },
     "execution_count": 33,
     "metadata": {},
     "output_type": "execute_result"
    }
   ],
   "source": [
    "Concat_f1_f5.groupby('trace_id')['people'].nunique()"
   ]
  },
  {
   "cell_type": "markdown",
   "metadata": {},
   "source": [
    "## Task b) People Count Visualization\n",
    "A histogram visualising the number of people per cluster, followed by an analysis of the output."
   ]
  },
  {
   "cell_type": "code",
   "execution_count": 34,
   "metadata": {},
   "outputs": [],
   "source": [
    "%matplotlib inline\n",
    "import matplotlib.pyplot as plt \n",
    "\n",
    "f1_f5_unique = Concat_f1_f5.groupby('trace_id')['people'].nunique()"
   ]
  },
  {
   "cell_type": "code",
   "execution_count": 35,
   "metadata": {},
   "outputs": [
    {
     "data": {
      "text/html": [
       "<div>\n",
       "<style scoped>\n",
       "    .dataframe tbody tr th:only-of-type {\n",
       "        vertical-align: middle;\n",
       "    }\n",
       "\n",
       "    .dataframe tbody tr th {\n",
       "        vertical-align: top;\n",
       "    }\n",
       "\n",
       "    .dataframe thead th {\n",
       "        text-align: right;\n",
       "    }\n",
       "</style>\n",
       "<table border=\"1\" class=\"dataframe\">\n",
       "  <thead>\n",
       "    <tr style=\"text-align: right;\">\n",
       "      <th></th>\n",
       "      <th>trace_id</th>\n",
       "      <th>people</th>\n",
       "    </tr>\n",
       "  </thead>\n",
       "  <tbody>\n",
       "    <tr>\n",
       "      <th>0</th>\n",
       "      <td>TRACE_PERSON_0000000003</td>\n",
       "      <td>9</td>\n",
       "    </tr>\n",
       "    <tr>\n",
       "      <th>1</th>\n",
       "      <td>TRACE_PERSON_0000000005</td>\n",
       "      <td>16</td>\n",
       "    </tr>\n",
       "    <tr>\n",
       "      <th>2</th>\n",
       "      <td>TRACE_PERSON_0000000011</td>\n",
       "      <td>3</td>\n",
       "    </tr>\n",
       "    <tr>\n",
       "      <th>3</th>\n",
       "      <td>TRACE_PERSON_0000000016</td>\n",
       "      <td>11</td>\n",
       "    </tr>\n",
       "    <tr>\n",
       "      <th>4</th>\n",
       "      <td>TRACE_PERSON_0000000019</td>\n",
       "      <td>3</td>\n",
       "    </tr>\n",
       "    <tr>\n",
       "      <th>...</th>\n",
       "      <td>...</td>\n",
       "      <td>...</td>\n",
       "    </tr>\n",
       "    <tr>\n",
       "      <th>213</th>\n",
       "      <td>TRACE_PERSON_0000000992</td>\n",
       "      <td>2</td>\n",
       "    </tr>\n",
       "    <tr>\n",
       "      <th>214</th>\n",
       "      <td>TRACE_PERSON_0000000994</td>\n",
       "      <td>6</td>\n",
       "    </tr>\n",
       "    <tr>\n",
       "      <th>215</th>\n",
       "      <td>TRACE_PERSON_0000000995</td>\n",
       "      <td>17</td>\n",
       "    </tr>\n",
       "    <tr>\n",
       "      <th>216</th>\n",
       "      <td>TRACE_PERSON_0000000998</td>\n",
       "      <td>2</td>\n",
       "    </tr>\n",
       "    <tr>\n",
       "      <th>217</th>\n",
       "      <td>TRACE_PERSON_0000000999</td>\n",
       "      <td>4</td>\n",
       "    </tr>\n",
       "  </tbody>\n",
       "</table>\n",
       "<p>218 rows × 2 columns</p>\n",
       "</div>"
      ],
      "text/plain": [
       "                    trace_id  people\n",
       "0    TRACE_PERSON_0000000003       9\n",
       "1    TRACE_PERSON_0000000005      16\n",
       "2    TRACE_PERSON_0000000011       3\n",
       "3    TRACE_PERSON_0000000016      11\n",
       "4    TRACE_PERSON_0000000019       3\n",
       "..                       ...     ...\n",
       "213  TRACE_PERSON_0000000992       2\n",
       "214  TRACE_PERSON_0000000994       6\n",
       "215  TRACE_PERSON_0000000995      17\n",
       "216  TRACE_PERSON_0000000998       2\n",
       "217  TRACE_PERSON_0000000999       4\n",
       "\n",
       "[218 rows x 2 columns]"
      ]
     },
     "execution_count": 35,
     "metadata": {},
     "output_type": "execute_result"
    }
   ],
   "source": [
    "f1_f5_unique_DF = pd.DataFrame({'trace_id':f1_f5_unique.index, 'people':f1_f5_unique.values})\n",
    "f1_f5_unique_DF"
   ]
  },
  {
   "cell_type": "code",
   "execution_count": 36,
   "metadata": {},
   "outputs": [
    {
     "data": {
      "text/plain": [
       "<AxesSubplot:xlabel='People', ylabel='No. of Cluster'>"
      ]
     },
     "execution_count": 36,
     "metadata": {},
     "output_type": "execute_result"
    },
    {
     "data": {
      "image/png": "[encoded data removed]",
      "text/plain": [
       "<Figure size 432x288 with 1 Axes>"
      ]
     },
     "metadata": {
      "needs_background": "light"
     },
     "output_type": "display_data"
    }
   ],
   "source": [
    "fig = plt.figure()\n",
    "people_noOfCluster = fig.add_subplot(1,1,1)\n",
    "people_noOfCluster.hist(f1_f5_unique_DF['people'],bins=15)\n",
    "people_noOfCluster.set_xlabel('People')\n",
    "people_noOfCluster.set_ylabel('No. of Cluster')\n",
    "people_noOfCluster"
   ]
  },
  {
   "cell_type": "markdown",
   "metadata": {},
   "source": [
    "### Insights Drawn For Task b:\n",
    "Based on the diagram above, we observe that \n",
    "- Majority of the clusters recorded involved less than 5 people\n",
    "- Very few cases of superspreader (i.e. less than 5 clusters involved more than 40 people)."
   ]
  },
  {
   "cell_type": "markdown",
   "metadata": {},
   "source": [
    "## Task c) People Not Involved in Any Cluster\n",
    "Identify all people who are not part of any cluster (those with no close contact)."
   ]
  },
  {
   "cell_type": "code",
   "execution_count": 38,
   "metadata": {},
   "outputs": [
    {
     "data": {
      "text/html": [
       "<div>\n",
       "<style scoped>\n",
       "    .dataframe tbody tr th:only-of-type {\n",
       "        vertical-align: middle;\n",
       "    }\n",
       "\n",
       "    .dataframe tbody tr th {\n",
       "        vertical-align: top;\n",
       "    }\n",
       "\n",
       "    .dataframe thead th {\n",
       "        text-align: right;\n",
       "    }\n",
       "</style>\n",
       "<table border=\"1\" class=\"dataframe\">\n",
       "  <thead>\n",
       "    <tr style=\"text-align: right;\">\n",
       "      <th></th>\n",
       "      <th>index</th>\n",
       "      <th>name</th>\n",
       "    </tr>\n",
       "  </thead>\n",
       "  <tbody>\n",
       "    <tr>\n",
       "      <th>0</th>\n",
       "      <td>PERSON_0000000000</td>\n",
       "      <td>Amy Berger</td>\n",
       "    </tr>\n",
       "    <tr>\n",
       "      <th>1</th>\n",
       "      <td>PERSON_0000000001</td>\n",
       "      <td>Michael Curry</td>\n",
       "    </tr>\n",
       "    <tr>\n",
       "      <th>2</th>\n",
       "      <td>PERSON_0000000002</td>\n",
       "      <td>Robert Ramirez</td>\n",
       "    </tr>\n",
       "    <tr>\n",
       "      <th>3</th>\n",
       "      <td>PERSON_0000000003</td>\n",
       "      <td>Derek Gonzalez</td>\n",
       "    </tr>\n",
       "    <tr>\n",
       "      <th>4</th>\n",
       "      <td>PERSON_0000000004</td>\n",
       "      <td>Gregory Fischer</td>\n",
       "    </tr>\n",
       "    <tr>\n",
       "      <th>...</th>\n",
       "      <td>...</td>\n",
       "      <td>...</td>\n",
       "    </tr>\n",
       "    <tr>\n",
       "      <th>995</th>\n",
       "      <td>PERSON_0000000995</td>\n",
       "      <td>Richard Kirk</td>\n",
       "    </tr>\n",
       "    <tr>\n",
       "      <th>996</th>\n",
       "      <td>PERSON_0000000996</td>\n",
       "      <td>Alexander Hernandez</td>\n",
       "    </tr>\n",
       "    <tr>\n",
       "      <th>997</th>\n",
       "      <td>PERSON_0000000997</td>\n",
       "      <td>Brandon Miller</td>\n",
       "    </tr>\n",
       "    <tr>\n",
       "      <th>998</th>\n",
       "      <td>PERSON_0000000998</td>\n",
       "      <td>Dennis Floyd</td>\n",
       "    </tr>\n",
       "    <tr>\n",
       "      <th>999</th>\n",
       "      <td>PERSON_0000000999</td>\n",
       "      <td>Stephen Manning</td>\n",
       "    </tr>\n",
       "  </tbody>\n",
       "</table>\n",
       "<p>1000 rows × 2 columns</p>\n",
       "</div>"
      ],
      "text/plain": [
       "                 index                 name\n",
       "0    PERSON_0000000000           Amy Berger\n",
       "1    PERSON_0000000001        Michael Curry\n",
       "2    PERSON_0000000002       Robert Ramirez\n",
       "3    PERSON_0000000003       Derek Gonzalez\n",
       "4    PERSON_0000000004      Gregory Fischer\n",
       "..                 ...                  ...\n",
       "995  PERSON_0000000995         Richard Kirk\n",
       "996  PERSON_0000000996  Alexander Hernandez\n",
       "997  PERSON_0000000997       Brandon Miller\n",
       "998  PERSON_0000000998         Dennis Floyd\n",
       "999  PERSON_0000000999      Stephen Manning\n",
       "\n",
       "[1000 rows x 2 columns]"
      ]
     },
     "execution_count": 38,
     "metadata": {},
     "output_type": "execute_result"
    }
   ],
   "source": [
    "peopleDF = pd.read_csv('../data/people.csv')\n",
    "peopleDF"
   ]
  },
  {
   "cell_type": "code",
   "execution_count": 39,
   "metadata": {},
   "outputs": [],
   "source": [
    "# merge Concat_f1_f5 with people.csv using people ID\n",
    "people_f1_f5_merge = peopleDF.merge(Concat_f1_f5, left_on=['index'], right_on=['people'], how='outer')\n",
    "POneg_NoCC_People_noNull = people_f1_f5_merge.fillna(0) "
   ]
  },
  {
   "cell_type": "code",
   "execution_count": 40,
   "metadata": {},
   "outputs": [],
   "source": [
    "POneg_NoCC_People = POneg_NoCC_People_noNull.query('trace_id == 0')"
   ]
  },
  {
   "cell_type": "code",
   "execution_count": 41,
   "metadata": {},
   "outputs": [
    {
     "data": {
      "text/html": [
       "<div>\n",
       "<style scoped>\n",
       "    .dataframe tbody tr th:only-of-type {\n",
       "        vertical-align: middle;\n",
       "    }\n",
       "\n",
       "    .dataframe tbody tr th {\n",
       "        vertical-align: top;\n",
       "    }\n",
       "\n",
       "    .dataframe thead th {\n",
       "        text-align: right;\n",
       "    }\n",
       "</style>\n",
       "<table border=\"1\" class=\"dataframe\">\n",
       "  <thead>\n",
       "    <tr style=\"text-align: right;\">\n",
       "      <th></th>\n",
       "      <th>index</th>\n",
       "      <th>name</th>\n",
       "    </tr>\n",
       "  </thead>\n",
       "  <tbody>\n",
       "    <tr>\n",
       "      <th>0</th>\n",
       "      <td>PERSON_0000000001</td>\n",
       "      <td>Michael Curry</td>\n",
       "    </tr>\n",
       "    <tr>\n",
       "      <th>1</th>\n",
       "      <td>PERSON_0000000007</td>\n",
       "      <td>James Rodriguez</td>\n",
       "    </tr>\n",
       "    <tr>\n",
       "      <th>2</th>\n",
       "      <td>PERSON_0000000029</td>\n",
       "      <td>Kevin Hood</td>\n",
       "    </tr>\n",
       "    <tr>\n",
       "      <th>3</th>\n",
       "      <td>PERSON_0000000043</td>\n",
       "      <td>Douglas Brown</td>\n",
       "    </tr>\n",
       "    <tr>\n",
       "      <th>4</th>\n",
       "      <td>PERSON_0000000053</td>\n",
       "      <td>Jennifer Guzman</td>\n",
       "    </tr>\n",
       "    <tr>\n",
       "      <th>...</th>\n",
       "      <td>...</td>\n",
       "      <td>...</td>\n",
       "    </tr>\n",
       "    <tr>\n",
       "      <th>138</th>\n",
       "      <td>PERSON_0000000946</td>\n",
       "      <td>Diamond Jones</td>\n",
       "    </tr>\n",
       "    <tr>\n",
       "      <th>139</th>\n",
       "      <td>PERSON_0000000948</td>\n",
       "      <td>Sara Guerrero</td>\n",
       "    </tr>\n",
       "    <tr>\n",
       "      <th>140</th>\n",
       "      <td>PERSON_0000000966</td>\n",
       "      <td>Breanna Hill</td>\n",
       "    </tr>\n",
       "    <tr>\n",
       "      <th>141</th>\n",
       "      <td>PERSON_0000000976</td>\n",
       "      <td>Suzanne Gilbert</td>\n",
       "    </tr>\n",
       "    <tr>\n",
       "      <th>142</th>\n",
       "      <td>PERSON_0000000988</td>\n",
       "      <td>Derek Reid</td>\n",
       "    </tr>\n",
       "  </tbody>\n",
       "</table>\n",
       "<p>143 rows × 2 columns</p>\n",
       "</div>"
      ],
      "text/plain": [
       "                 index             name\n",
       "0    PERSON_0000000001    Michael Curry\n",
       "1    PERSON_0000000007  James Rodriguez\n",
       "2    PERSON_0000000029       Kevin Hood\n",
       "3    PERSON_0000000043    Douglas Brown\n",
       "4    PERSON_0000000053  Jennifer Guzman\n",
       "..                 ...              ...\n",
       "138  PERSON_0000000946    Diamond Jones\n",
       "139  PERSON_0000000948    Sara Guerrero\n",
       "140  PERSON_0000000966     Breanna Hill\n",
       "141  PERSON_0000000976  Suzanne Gilbert\n",
       "142  PERSON_0000000988       Derek Reid\n",
       "\n",
       "[143 rows x 2 columns]"
      ]
     },
     "execution_count": 41,
     "metadata": {},
     "output_type": "execute_result"
    }
   ],
   "source": [
    "POneg_NoCC_Peopl_Final = POneg_NoCC_People[['index','name']].reset_index(drop=True)\n",
    "POneg_NoCC_Peopl_Final"
   ]
  },
  {
   "cell_type": "markdown",
   "metadata": {},
   "source": [
    "## Task d) Tracing Paths through a Specified Person\n",
    "Design a function (```GetTracingPaths```) to find all tracing paths passing through a specified person ID in a given cluster."
   ]
  },
  {
   "cell_type": "code",
   "execution_count": 42,
   "metadata": {},
   "outputs": [
    {
     "data": {
      "text/html": [
       "<div>\n",
       "<style scoped>\n",
       "    .dataframe tbody tr th:only-of-type {\n",
       "        vertical-align: middle;\n",
       "    }\n",
       "\n",
       "    .dataframe tbody tr th {\n",
       "        vertical-align: top;\n",
       "    }\n",
       "\n",
       "    .dataframe thead th {\n",
       "        text-align: right;\n",
       "    }\n",
       "</style>\n",
       "<table border=\"1\" class=\"dataframe\">\n",
       "  <thead>\n",
       "    <tr style=\"text-align: right;\">\n",
       "      <th></th>\n",
       "      <th>trace_id</th>\n",
       "      <th>f4</th>\n",
       "      <th>f5</th>\n",
       "    </tr>\n",
       "  </thead>\n",
       "  <tbody>\n",
       "    <tr>\n",
       "      <th>0</th>\n",
       "      <td>TRACE_PERSON_0000000379</td>\n",
       "      <td>PERSON_0000000245</td>\n",
       "      <td>PERSON_0000000331</td>\n",
       "    </tr>\n",
       "    <tr>\n",
       "      <th>1</th>\n",
       "      <td>TRACE_PERSON_0000000958</td>\n",
       "      <td>PERSON_0000000181</td>\n",
       "      <td>PERSON_0000000508</td>\n",
       "    </tr>\n",
       "    <tr>\n",
       "      <th>2</th>\n",
       "      <td>TRACE_PERSON_0000000576</td>\n",
       "      <td>PERSON_0000000604</td>\n",
       "      <td>PERSON_0000000238</td>\n",
       "    </tr>\n",
       "    <tr>\n",
       "      <th>3</th>\n",
       "      <td>TRACE_PERSON_0000000095</td>\n",
       "      <td>PERSON_0000000419</td>\n",
       "      <td>PERSON_0000000195</td>\n",
       "    </tr>\n",
       "    <tr>\n",
       "      <th>4</th>\n",
       "      <td>TRACE_PERSON_0000000892</td>\n",
       "      <td>PERSON_0000000931</td>\n",
       "      <td>PERSON_0000000593</td>\n",
       "    </tr>\n",
       "  </tbody>\n",
       "</table>\n",
       "</div>"
      ],
      "text/plain": [
       "                  trace_id                 f4                 f5\n",
       "0  TRACE_PERSON_0000000379  PERSON_0000000245  PERSON_0000000331\n",
       "1  TRACE_PERSON_0000000958  PERSON_0000000181  PERSON_0000000508\n",
       "2  TRACE_PERSON_0000000576  PERSON_0000000604  PERSON_0000000238\n",
       "3  TRACE_PERSON_0000000095  PERSON_0000000419  PERSON_0000000195\n",
       "4  TRACE_PERSON_0000000892  PERSON_0000000931  PERSON_0000000593"
      ]
     },
     "execution_count": 42,
     "metadata": {},
     "output_type": "execute_result"
    }
   ],
   "source": [
    "df_f0_f1\n",
    "df_f1_f2\n",
    "df_f2_f3\n",
    "df_f3_f4\n",
    "df_f4_f5.head()"
   ]
  },
  {
   "cell_type": "code",
   "execution_count": 43,
   "metadata": {},
   "outputs": [
    {
     "data": {
      "text/plain": [
       "(2326, 7)"
      ]
     },
     "execution_count": 43,
     "metadata": {},
     "output_type": "execute_result"
    }
   ],
   "source": [
    "df_f0_f2 = df_f0_f1.merge(df_f1_f2, on=['trace_id','f1'], how='outer')\n",
    "df_f0_f3 = df_f0_f2.merge(df_f2_f3, on=['trace_id','f2'], how='outer')\n",
    "df_f0_f4 = df_f0_f3.merge(df_f3_f4, on=['trace_id','f3'], how='outer')\n",
    "df_f0_f5 = df_f0_f4.merge(df_f4_f5, on=['trace_id','f4'], how='outer')\n",
    "df_f0_f5_sorted = df_f0_f5[['trace_id','f0','f1','f2','f3','f4','f5']].reset_index(drop=True)\n",
    "df_f0_f5_sorted.shape"
   ]
  },
  {
   "cell_type": "code",
   "execution_count": 44,
   "metadata": {},
   "outputs": [
    {
     "name": "stdout",
     "output_type": "stream",
     "text": [
      "220\n"
     ]
    },
    {
     "data": {
      "text/plain": [
       "0     False\n",
       "1     False\n",
       "2     False\n",
       "3     False\n",
       "4     False\n",
       "5     False\n",
       "6     False\n",
       "7     False\n",
       "8     False\n",
       "9     False\n",
       "10    False\n",
       "11    False\n",
       "12     True\n",
       "13    False\n",
       "14    False\n",
       "15    False\n",
       "16    False\n",
       "17    False\n",
       "18    False\n",
       "19    False\n",
       "20    False\n",
       "21    False\n",
       "22    False\n",
       "23    False\n",
       "24     True\n",
       "dtype: bool"
      ]
     },
     "execution_count": 44,
     "metadata": {},
     "output_type": "execute_result"
    }
   ],
   "source": [
    "print(df_f0_f5_sorted.duplicated().sum())\n",
    "df_f0_f5_sorted.duplicated().head(25)"
   ]
  },
  {
   "cell_type": "code",
   "execution_count": 45,
   "metadata": {},
   "outputs": [
    {
     "data": {
      "text/plain": [
       "(2106, 7)"
      ]
     },
     "execution_count": 45,
     "metadata": {},
     "output_type": "execute_result"
    }
   ],
   "source": [
    "df_f0_f5_noDupli = df_f0_f5_sorted.drop_duplicates()\n",
    "df_f0_f5_noDupli.shape"
   ]
  },
  {
   "cell_type": "code",
   "execution_count": 46,
   "metadata": {},
   "outputs": [
    {
     "data": {
      "text/html": [
       "<div>\n",
       "<style scoped>\n",
       "    .dataframe tbody tr th:only-of-type {\n",
       "        vertical-align: middle;\n",
       "    }\n",
       "\n",
       "    .dataframe tbody tr th {\n",
       "        vertical-align: top;\n",
       "    }\n",
       "\n",
       "    .dataframe thead th {\n",
       "        text-align: right;\n",
       "    }\n",
       "</style>\n",
       "<table border=\"1\" class=\"dataframe\">\n",
       "  <thead>\n",
       "    <tr style=\"text-align: right;\">\n",
       "      <th></th>\n",
       "      <th>trace_id</th>\n",
       "      <th>f0</th>\n",
       "      <th>f1</th>\n",
       "      <th>f2</th>\n",
       "      <th>f3</th>\n",
       "      <th>f4</th>\n",
       "      <th>f5</th>\n",
       "    </tr>\n",
       "  </thead>\n",
       "  <tbody>\n",
       "    <tr>\n",
       "      <th>0</th>\n",
       "      <td>TRACE_PERSON_0000000016</td>\n",
       "      <td>PERSON_0000000016</td>\n",
       "      <td>PERSON_0000000914</td>\n",
       "      <td>NaN</td>\n",
       "      <td>NaN</td>\n",
       "      <td>NaN</td>\n",
       "      <td>NaN</td>\n",
       "    </tr>\n",
       "    <tr>\n",
       "      <th>1</th>\n",
       "      <td>TRACE_PERSON_0000000016</td>\n",
       "      <td>PERSON_0000000016</td>\n",
       "      <td>PERSON_0000000711</td>\n",
       "      <td>NaN</td>\n",
       "      <td>NaN</td>\n",
       "      <td>NaN</td>\n",
       "      <td>NaN</td>\n",
       "    </tr>\n",
       "    <tr>\n",
       "      <th>2</th>\n",
       "      <td>TRACE_PERSON_0000000016</td>\n",
       "      <td>PERSON_0000000016</td>\n",
       "      <td>PERSON_0000000770</td>\n",
       "      <td>NaN</td>\n",
       "      <td>NaN</td>\n",
       "      <td>NaN</td>\n",
       "      <td>NaN</td>\n",
       "    </tr>\n",
       "    <tr>\n",
       "      <th>3</th>\n",
       "      <td>TRACE_PERSON_0000000016</td>\n",
       "      <td>PERSON_0000000016</td>\n",
       "      <td>PERSON_0000000338</td>\n",
       "      <td>NaN</td>\n",
       "      <td>NaN</td>\n",
       "      <td>NaN</td>\n",
       "      <td>NaN</td>\n",
       "    </tr>\n",
       "    <tr>\n",
       "      <th>4</th>\n",
       "      <td>TRACE_PERSON_0000000016</td>\n",
       "      <td>PERSON_0000000016</td>\n",
       "      <td>PERSON_0000000844</td>\n",
       "      <td>NaN</td>\n",
       "      <td>NaN</td>\n",
       "      <td>NaN</td>\n",
       "      <td>NaN</td>\n",
       "    </tr>\n",
       "    <tr>\n",
       "      <th>...</th>\n",
       "      <td>...</td>\n",
       "      <td>...</td>\n",
       "      <td>...</td>\n",
       "      <td>...</td>\n",
       "      <td>...</td>\n",
       "      <td>...</td>\n",
       "      <td>...</td>\n",
       "    </tr>\n",
       "    <tr>\n",
       "      <th>2321</th>\n",
       "      <td>TRACE_PERSON_0000000706</td>\n",
       "      <td>PERSON_0000000706</td>\n",
       "      <td>PERSON_0000000522</td>\n",
       "      <td>PERSON_0000000127</td>\n",
       "      <td>NaN</td>\n",
       "      <td>NaN</td>\n",
       "      <td>NaN</td>\n",
       "    </tr>\n",
       "    <tr>\n",
       "      <th>2322</th>\n",
       "      <td>TRACE_PERSON_0000000975</td>\n",
       "      <td>PERSON_0000000975</td>\n",
       "      <td>PERSON_0000000311</td>\n",
       "      <td>NaN</td>\n",
       "      <td>NaN</td>\n",
       "      <td>NaN</td>\n",
       "      <td>NaN</td>\n",
       "    </tr>\n",
       "    <tr>\n",
       "      <th>2323</th>\n",
       "      <td>TRACE_PERSON_0000000037</td>\n",
       "      <td>PERSON_0000000037</td>\n",
       "      <td>PERSON_0000000577</td>\n",
       "      <td>PERSON_0000000394</td>\n",
       "      <td>PERSON_0000000263</td>\n",
       "      <td>PERSON_0000000516</td>\n",
       "      <td>NaN</td>\n",
       "    </tr>\n",
       "    <tr>\n",
       "      <th>2324</th>\n",
       "      <td>TRACE_PERSON_0000000037</td>\n",
       "      <td>PERSON_0000000037</td>\n",
       "      <td>PERSON_0000000577</td>\n",
       "      <td>PERSON_0000000394</td>\n",
       "      <td>PERSON_0000000263</td>\n",
       "      <td>PERSON_0000000446</td>\n",
       "      <td>NaN</td>\n",
       "    </tr>\n",
       "    <tr>\n",
       "      <th>2325</th>\n",
       "      <td>TRACE_PERSON_0000000193</td>\n",
       "      <td>PERSON_0000000193</td>\n",
       "      <td>PERSON_0000000994</td>\n",
       "      <td>NaN</td>\n",
       "      <td>NaN</td>\n",
       "      <td>NaN</td>\n",
       "      <td>NaN</td>\n",
       "    </tr>\n",
       "  </tbody>\n",
       "</table>\n",
       "<p>2106 rows × 7 columns</p>\n",
       "</div>"
      ],
      "text/plain": [
       "                     trace_id                 f0                 f1  \\\n",
       "0     TRACE_PERSON_0000000016  PERSON_0000000016  PERSON_0000000914   \n",
       "1     TRACE_PERSON_0000000016  PERSON_0000000016  PERSON_0000000711   \n",
       "2     TRACE_PERSON_0000000016  PERSON_0000000016  PERSON_0000000770   \n",
       "3     TRACE_PERSON_0000000016  PERSON_0000000016  PERSON_0000000338   \n",
       "4     TRACE_PERSON_0000000016  PERSON_0000000016  PERSON_0000000844   \n",
       "...                       ...                ...                ...   \n",
       "2321  TRACE_PERSON_0000000706  PERSON_0000000706  PERSON_0000000522   \n",
       "2322  TRACE_PERSON_0000000975  PERSON_0000000975  PERSON_0000000311   \n",
       "2323  TRACE_PERSON_0000000037  PERSON_0000000037  PERSON_0000000577   \n",
       "2324  TRACE_PERSON_0000000037  PERSON_0000000037  PERSON_0000000577   \n",
       "2325  TRACE_PERSON_0000000193  PERSON_0000000193  PERSON_0000000994   \n",
       "\n",
       "                     f2                 f3                 f4   f5  \n",
       "0                   NaN                NaN                NaN  NaN  \n",
       "1                   NaN                NaN                NaN  NaN  \n",
       "2                   NaN                NaN                NaN  NaN  \n",
       "3                   NaN                NaN                NaN  NaN  \n",
       "4                   NaN                NaN                NaN  NaN  \n",
       "...                 ...                ...                ...  ...  \n",
       "2321  PERSON_0000000127                NaN                NaN  NaN  \n",
       "2322                NaN                NaN                NaN  NaN  \n",
       "2323  PERSON_0000000394  PERSON_0000000263  PERSON_0000000516  NaN  \n",
       "2324  PERSON_0000000394  PERSON_0000000263  PERSON_0000000446  NaN  \n",
       "2325                NaN                NaN                NaN  NaN  \n",
       "\n",
       "[2106 rows x 7 columns]"
      ]
     },
     "execution_count": 46,
     "metadata": {},
     "output_type": "execute_result"
    }
   ],
   "source": [
    "df_f0_f5_noDupli"
   ]
  },
  {
   "cell_type": "code",
   "execution_count": 54,
   "metadata": {},
   "outputs": [],
   "source": [
    "def GetTracingPaths(personID, traceID):\n",
    "    cluster = df_f0_f5_noDupli.loc[(df_f0_f5_noDupli['trace_id'] == traceID)]\n",
    "    tracingPath = cluster[cluster.isin([personID]).any(axis=1)].reset_index(drop=True)\n",
    "    \n",
    "    # Create a copy to avoid the SettingWithCopyWarning\n",
    "    tracingPath_final = tracingPath[['f0', 'f1', 'f2', 'f3', 'f4', 'f5']].copy()\n",
    "    \n",
    "    # Sort the DataFrame\n",
    "    tracingPath_final.sort_values(by=['f0', 'f1', 'f2', 'f3'], inplace=True)\n",
    "    \n",
    "    return tracingPath_final.reset_index(drop=True)\n"
   ]
  },
  {
   "cell_type": "code",
   "execution_count": 55,
   "metadata": {},
   "outputs": [
    {
     "data": {
      "text/html": [
       "<div>\n",
       "<style scoped>\n",
       "    .dataframe tbody tr th:only-of-type {\n",
       "        vertical-align: middle;\n",
       "    }\n",
       "\n",
       "    .dataframe tbody tr th {\n",
       "        vertical-align: top;\n",
       "    }\n",
       "\n",
       "    .dataframe thead th {\n",
       "        text-align: right;\n",
       "    }\n",
       "</style>\n",
       "<table border=\"1\" class=\"dataframe\">\n",
       "  <thead>\n",
       "    <tr style=\"text-align: right;\">\n",
       "      <th></th>\n",
       "      <th>f0</th>\n",
       "      <th>f1</th>\n",
       "      <th>f2</th>\n",
       "      <th>f3</th>\n",
       "      <th>f4</th>\n",
       "      <th>f5</th>\n",
       "    </tr>\n",
       "  </thead>\n",
       "  <tbody>\n",
       "    <tr>\n",
       "      <th>0</th>\n",
       "      <td>PERSON_0000000379</td>\n",
       "      <td>PERSON_0000000218</td>\n",
       "      <td>PERSON_0000000054</td>\n",
       "      <td>PERSON_0000000889</td>\n",
       "      <td>PERSON_0000000640</td>\n",
       "      <td>PERSON_0000000067</td>\n",
       "    </tr>\n",
       "    <tr>\n",
       "      <th>1</th>\n",
       "      <td>PERSON_0000000379</td>\n",
       "      <td>PERSON_0000000218</td>\n",
       "      <td>PERSON_0000000054</td>\n",
       "      <td>PERSON_0000000889</td>\n",
       "      <td>PERSON_0000000067</td>\n",
       "      <td>PERSON_0000000209</td>\n",
       "    </tr>\n",
       "    <tr>\n",
       "      <th>2</th>\n",
       "      <td>PERSON_0000000379</td>\n",
       "      <td>PERSON_0000000218</td>\n",
       "      <td>PERSON_0000000054</td>\n",
       "      <td>PERSON_0000000889</td>\n",
       "      <td>PERSON_0000000067</td>\n",
       "      <td>PERSON_0000000456</td>\n",
       "    </tr>\n",
       "    <tr>\n",
       "      <th>3</th>\n",
       "      <td>PERSON_0000000379</td>\n",
       "      <td>PERSON_0000000740</td>\n",
       "      <td>PERSON_0000000054</td>\n",
       "      <td>PERSON_0000000889</td>\n",
       "      <td>PERSON_0000000640</td>\n",
       "      <td>PERSON_0000000067</td>\n",
       "    </tr>\n",
       "    <tr>\n",
       "      <th>4</th>\n",
       "      <td>PERSON_0000000379</td>\n",
       "      <td>PERSON_0000000740</td>\n",
       "      <td>PERSON_0000000054</td>\n",
       "      <td>PERSON_0000000889</td>\n",
       "      <td>PERSON_0000000067</td>\n",
       "      <td>PERSON_0000000209</td>\n",
       "    </tr>\n",
       "    <tr>\n",
       "      <th>5</th>\n",
       "      <td>PERSON_0000000379</td>\n",
       "      <td>PERSON_0000000740</td>\n",
       "      <td>PERSON_0000000054</td>\n",
       "      <td>PERSON_0000000889</td>\n",
       "      <td>PERSON_0000000067</td>\n",
       "      <td>PERSON_0000000456</td>\n",
       "    </tr>\n",
       "  </tbody>\n",
       "</table>\n",
       "</div>"
      ],
      "text/plain": [
       "                  f0                 f1                 f2                 f3  \\\n",
       "0  PERSON_0000000379  PERSON_0000000218  PERSON_0000000054  PERSON_0000000889   \n",
       "1  PERSON_0000000379  PERSON_0000000218  PERSON_0000000054  PERSON_0000000889   \n",
       "2  PERSON_0000000379  PERSON_0000000218  PERSON_0000000054  PERSON_0000000889   \n",
       "3  PERSON_0000000379  PERSON_0000000740  PERSON_0000000054  PERSON_0000000889   \n",
       "4  PERSON_0000000379  PERSON_0000000740  PERSON_0000000054  PERSON_0000000889   \n",
       "5  PERSON_0000000379  PERSON_0000000740  PERSON_0000000054  PERSON_0000000889   \n",
       "\n",
       "                  f4                 f5  \n",
       "0  PERSON_0000000640  PERSON_0000000067  \n",
       "1  PERSON_0000000067  PERSON_0000000209  \n",
       "2  PERSON_0000000067  PERSON_0000000456  \n",
       "3  PERSON_0000000640  PERSON_0000000067  \n",
       "4  PERSON_0000000067  PERSON_0000000209  \n",
       "5  PERSON_0000000067  PERSON_0000000456  "
      ]
     },
     "execution_count": 55,
     "metadata": {},
     "output_type": "execute_result"
    }
   ],
   "source": [
    "GetTracingPaths('PERSON_0000000067','TRACE_PERSON_0000000379')"
   ]
  },
  {
   "cell_type": "markdown",
   "metadata": {},
   "source": [
    "## Task e) Direct and Indirect Relationships\n",
    "Design a function that checks if there’s a direct or indirect infection path between two people in a given trace ID."
   ]
  },
  {
   "cell_type": "code",
   "execution_count": 62,
   "metadata": {},
   "outputs": [
    {
     "data": {
      "text/html": [
       "<div>\n",
       "<style scoped>\n",
       "    .dataframe tbody tr th:only-of-type {\n",
       "        vertical-align: middle;\n",
       "    }\n",
       "\n",
       "    .dataframe tbody tr th {\n",
       "        vertical-align: top;\n",
       "    }\n",
       "\n",
       "    .dataframe thead th {\n",
       "        text-align: right;\n",
       "    }\n",
       "</style>\n",
       "<table border=\"1\" class=\"dataframe\">\n",
       "  <thead>\n",
       "    <tr style=\"text-align: right;\">\n",
       "      <th></th>\n",
       "      <th>0</th>\n",
       "      <th>1</th>\n",
       "      <th>2</th>\n",
       "      <th>3</th>\n",
       "      <th>4</th>\n",
       "      <th>5</th>\n",
       "    </tr>\n",
       "  </thead>\n",
       "  <tbody>\n",
       "    <tr>\n",
       "      <th>0</th>\n",
       "      <td>NaN</td>\n",
       "      <td>NaN</td>\n",
       "      <td>PERSON_0000000054</td>\n",
       "      <td>PERSON_0000000889</td>\n",
       "      <td>PERSON_0000000640</td>\n",
       "      <td>PERSON_0000000067</td>\n",
       "    </tr>\n",
       "    <tr>\n",
       "      <th>1</th>\n",
       "      <td>NaN</td>\n",
       "      <td>NaN</td>\n",
       "      <td>PERSON_0000000054</td>\n",
       "      <td>PERSON_0000000889</td>\n",
       "      <td>PERSON_0000000067</td>\n",
       "      <td>NaN</td>\n",
       "    </tr>\n",
       "    <tr>\n",
       "      <th>2</th>\n",
       "      <td>NaN</td>\n",
       "      <td>NaN</td>\n",
       "      <td>PERSON_0000000054</td>\n",
       "      <td>PERSON_0000000889</td>\n",
       "      <td>PERSON_0000000067</td>\n",
       "      <td>NaN</td>\n",
       "    </tr>\n",
       "    <tr>\n",
       "      <th>3</th>\n",
       "      <td>NaN</td>\n",
       "      <td>NaN</td>\n",
       "      <td>PERSON_0000000054</td>\n",
       "      <td>PERSON_0000000889</td>\n",
       "      <td>PERSON_0000000640</td>\n",
       "      <td>PERSON_0000000067</td>\n",
       "    </tr>\n",
       "    <tr>\n",
       "      <th>4</th>\n",
       "      <td>NaN</td>\n",
       "      <td>NaN</td>\n",
       "      <td>PERSON_0000000054</td>\n",
       "      <td>PERSON_0000000889</td>\n",
       "      <td>PERSON_0000000067</td>\n",
       "      <td>NaN</td>\n",
       "    </tr>\n",
       "    <tr>\n",
       "      <th>5</th>\n",
       "      <td>NaN</td>\n",
       "      <td>NaN</td>\n",
       "      <td>PERSON_0000000054</td>\n",
       "      <td>PERSON_0000000889</td>\n",
       "      <td>PERSON_0000000067</td>\n",
       "      <td>NaN</td>\n",
       "    </tr>\n",
       "  </tbody>\n",
       "</table>\n",
       "</div>"
      ],
      "text/plain": [
       "     0    1                  2                  3                  4  \\\n",
       "0  NaN  NaN  PERSON_0000000054  PERSON_0000000889  PERSON_0000000640   \n",
       "1  NaN  NaN  PERSON_0000000054  PERSON_0000000889  PERSON_0000000067   \n",
       "2  NaN  NaN  PERSON_0000000054  PERSON_0000000889  PERSON_0000000067   \n",
       "3  NaN  NaN  PERSON_0000000054  PERSON_0000000889  PERSON_0000000640   \n",
       "4  NaN  NaN  PERSON_0000000054  PERSON_0000000889  PERSON_0000000067   \n",
       "5  NaN  NaN  PERSON_0000000054  PERSON_0000000889  PERSON_0000000067   \n",
       "\n",
       "                   5  \n",
       "0  PERSON_0000000067  \n",
       "1                NaN  \n",
       "2                NaN  \n",
       "3  PERSON_0000000067  \n",
       "4                NaN  \n",
       "5                NaN  "
      ]
     },
     "execution_count": 62,
     "metadata": {},
     "output_type": "execute_result"
    }
   ],
   "source": [
    "import numpy as np\n",
    "\n",
    "def GetInfectionRelationship(traceID, frm_ID, to_ID):\n",
    "    FrmIndex_dict = {}\n",
    "    ToIndex_dict = {}\n",
    "    \n",
    "    # Use copy explicitly\n",
    "    cluster = df_f0_f5_noDupli.loc[(df_f0_f5_noDupli['trace_id'] == traceID)].copy()\n",
    "    \n",
    "    # Filter the cluster without chaining\n",
    "    tracingPath = cluster[(cluster.isin([frm_ID]).any(axis=1)) & (cluster.isin([to_ID]).any(axis=1))].copy()\n",
    "    \n",
    "    # Process DataFrame with explicit assignments instead of inplace=True\n",
    "    tracingPath_NoTraceID = tracingPath[['f0','f1','f2','f3','f4','f5']]\n",
    "    tracingPath_NoTraceID = tracingPath_NoTraceID.sort_values(by=['f0','f1','f2','f3'])\n",
    "    tracingPath_NoTraceID = tracingPath_NoTraceID.rename(columns={'f0': 0, 'f1': 1, 'f2': 2, 'f3': 3, 'f4': 4, 'f5': 5})\n",
    "    \n",
    "    # Use reset_index() and copy again to ensure it's not a view\n",
    "    tracingPath_final = tracingPath_NoTraceID.reset_index(drop=True).copy()\n",
    "    \n",
    "    # Process for `frm_ID` and `to_ID`\n",
    "    Frmresult = tracingPath_final.isin([frm_ID])\n",
    "    FrmObj = Frmresult.any()\n",
    "    FrmcolumnNames = list(FrmObj[FrmObj == True].index)\n",
    "    for Fcol in FrmcolumnNames:\n",
    "        Frows = list(Frmresult[Fcol][Frmresult[Fcol] == True].index)\n",
    "        for Frow in Frows:\n",
    "            FrmIndex_dict[Frow] = Fcol\n",
    "\n",
    "    Toresult = tracingPath_final.isin([to_ID])\n",
    "    ToObj = Toresult.any()\n",
    "    TocolumnNames = list(ToObj[ToObj == True].index)\n",
    "    for Tcol in TocolumnNames:\n",
    "        Trows = list(Toresult[Tcol][Toresult[Tcol] == True].index)\n",
    "        for Trow in Trows:\n",
    "            ToIndex_dict[Trow] = Tcol\n",
    "            \n",
    "    # Update the values using `.loc[]` to avoid chained indexing\n",
    "    for Fr, Fc in FrmIndex_dict.items():\n",
    "        tracingPath_final.loc[Fr, list(range(Fc))] = np.nan\n",
    "    \n",
    "    for Tr, Tc in ToIndex_dict.items():\n",
    "        tracingPath_final.loc[Tr, list(range(Tc + 1, tracingPath_final.shape[1]))] = np.nan\n",
    "    \n",
    "    return tracingPath_final\n"
   ]
  },
  {
   "cell_type": "code",
   "execution_count": 63,
   "metadata": {},
   "outputs": [
    {
     "data": {
      "text/html": [
       "<div>\n",
       "<style scoped>\n",
       "    .dataframe tbody tr th:only-of-type {\n",
       "        vertical-align: middle;\n",
       "    }\n",
       "\n",
       "    .dataframe tbody tr th {\n",
       "        vertical-align: top;\n",
       "    }\n",
       "\n",
       "    .dataframe thead th {\n",
       "        text-align: right;\n",
       "    }\n",
       "</style>\n",
       "<table border=\"1\" class=\"dataframe\">\n",
       "  <thead>\n",
       "    <tr style=\"text-align: right;\">\n",
       "      <th></th>\n",
       "      <th>0</th>\n",
       "      <th>1</th>\n",
       "      <th>2</th>\n",
       "      <th>3</th>\n",
       "      <th>4</th>\n",
       "      <th>5</th>\n",
       "    </tr>\n",
       "  </thead>\n",
       "  <tbody>\n",
       "    <tr>\n",
       "      <th>0</th>\n",
       "      <td>NaN</td>\n",
       "      <td>NaN</td>\n",
       "      <td>PERSON_0000000054</td>\n",
       "      <td>PERSON_0000000889</td>\n",
       "      <td>PERSON_0000000640</td>\n",
       "      <td>PERSON_0000000067</td>\n",
       "    </tr>\n",
       "    <tr>\n",
       "      <th>1</th>\n",
       "      <td>NaN</td>\n",
       "      <td>NaN</td>\n",
       "      <td>PERSON_0000000054</td>\n",
       "      <td>PERSON_0000000889</td>\n",
       "      <td>PERSON_0000000067</td>\n",
       "      <td>NaN</td>\n",
       "    </tr>\n",
       "    <tr>\n",
       "      <th>2</th>\n",
       "      <td>NaN</td>\n",
       "      <td>NaN</td>\n",
       "      <td>PERSON_0000000054</td>\n",
       "      <td>PERSON_0000000889</td>\n",
       "      <td>PERSON_0000000067</td>\n",
       "      <td>NaN</td>\n",
       "    </tr>\n",
       "    <tr>\n",
       "      <th>3</th>\n",
       "      <td>NaN</td>\n",
       "      <td>NaN</td>\n",
       "      <td>PERSON_0000000054</td>\n",
       "      <td>PERSON_0000000889</td>\n",
       "      <td>PERSON_0000000640</td>\n",
       "      <td>PERSON_0000000067</td>\n",
       "    </tr>\n",
       "    <tr>\n",
       "      <th>4</th>\n",
       "      <td>NaN</td>\n",
       "      <td>NaN</td>\n",
       "      <td>PERSON_0000000054</td>\n",
       "      <td>PERSON_0000000889</td>\n",
       "      <td>PERSON_0000000067</td>\n",
       "      <td>NaN</td>\n",
       "    </tr>\n",
       "    <tr>\n",
       "      <th>5</th>\n",
       "      <td>NaN</td>\n",
       "      <td>NaN</td>\n",
       "      <td>PERSON_0000000054</td>\n",
       "      <td>PERSON_0000000889</td>\n",
       "      <td>PERSON_0000000067</td>\n",
       "      <td>NaN</td>\n",
       "    </tr>\n",
       "  </tbody>\n",
       "</table>\n",
       "</div>"
      ],
      "text/plain": [
       "     0    1                  2                  3                  4  \\\n",
       "0  NaN  NaN  PERSON_0000000054  PERSON_0000000889  PERSON_0000000640   \n",
       "1  NaN  NaN  PERSON_0000000054  PERSON_0000000889  PERSON_0000000067   \n",
       "2  NaN  NaN  PERSON_0000000054  PERSON_0000000889  PERSON_0000000067   \n",
       "3  NaN  NaN  PERSON_0000000054  PERSON_0000000889  PERSON_0000000640   \n",
       "4  NaN  NaN  PERSON_0000000054  PERSON_0000000889  PERSON_0000000067   \n",
       "5  NaN  NaN  PERSON_0000000054  PERSON_0000000889  PERSON_0000000067   \n",
       "\n",
       "                   5  \n",
       "0  PERSON_0000000067  \n",
       "1                NaN  \n",
       "2                NaN  \n",
       "3  PERSON_0000000067  \n",
       "4                NaN  \n",
       "5                NaN  "
      ]
     },
     "execution_count": 63,
     "metadata": {},
     "output_type": "execute_result"
    }
   ],
   "source": [
    "GetInfectionRelationship('TRACE_PERSON_0000000379','PERSON_0000000054','PERSON_0000000067' )"
   ]
  },
  {
   "cell_type": "markdown",
   "metadata": {},
   "source": [
    "## Task f) Network Visualization of Tracing Paths\n",
    "Visualise the tracing paths using NetworkX to show the network of people infected (directly or indirectly) within a specified cluster."
   ]
  },
  {
   "cell_type": "code",
   "execution_count": 68,
   "metadata": {},
   "outputs": [
    {
     "data": {
      "image/png": "[encoded data removed]",
      "text/plain": [
       "<Figure size 1224x720 with 1 Axes>"
      ]
     },
     "metadata": {},
     "output_type": "display_data"
    }
   ],
   "source": [
    "import itertools\n",
    "import copy\n",
    "import networkx as nx\n",
    "import pandas as pd\n",
    "import matplotlib.pyplot as plt\n",
    "\n",
    "edgelist = GetTracingPaths('PERSON_0000000067','TRACE_PERSON_0000000379')\n",
    "\n",
    "TracingPathGraph = nx.Graph()\n",
    "for i, elrow in edgelist.iterrows():\n",
    "    TracingPathGraph.add_edge(elrow[0], elrow[1], label='f0_f1')\n",
    "    TracingPathGraph.add_edge(elrow[1], elrow[2], label='f1_f2')\n",
    "    TracingPathGraph.add_edge(elrow[2], elrow[3], label='f2_f3')\n",
    "    TracingPathGraph.add_edge(elrow[3], elrow[4], label='f3_f4')\n",
    "    TracingPathGraph.add_edge(elrow[4], elrow[5], label='f4_f5')\n",
    "\n",
    "pos = nx.spring_layout(TracingPathGraph, seed=2564973113)\n",
    "\n",
    "mirrored_pos = {node: (-x, y) for node, (x, y) in pos.items()}\n",
    "\n",
    "plt.figure(figsize=(17, 10))\n",
    "plt.title('Graph Representation of All Tracing Paths', size=20)\n",
    "\n",
    "edge_labels = nx.get_edge_attributes(TracingPathGraph, 'label')\n",
    "nx.draw(TracingPathGraph, pos=mirrored_pos, node_size=500, node_color='#e3acb3', alpha=0.5, with_labels=True)\n",
    "nx.draw_networkx_edge_labels(TracingPathGraph, pos=mirrored_pos, edge_labels=edge_labels, font_color='#e14b00')\n",
    "\n",
    "plt.tight_layout()\n",
    "plt.axis(\"off\")\n",
    "plt.show()\n"
   ]
  }
 ],
 "metadata": {
  "kernelspec": {
   "display_name": "Python 3 (ipykernel)",
   "language": "python",
   "name": "python3"
  },
  "language_info": {
   "codemirror_mode": {
    "name": "ipython",
    "version": 3
   },
   "file_extension": ".py",
   "mimetype": "text/x-python",
   "name": "python",
   "nbconvert_exporter": "python",
   "pygments_lexer": "ipython3",
   "version": "3.9.7"
  }
 },
 "nbformat": 4,
 "nbformat_minor": 4
}
