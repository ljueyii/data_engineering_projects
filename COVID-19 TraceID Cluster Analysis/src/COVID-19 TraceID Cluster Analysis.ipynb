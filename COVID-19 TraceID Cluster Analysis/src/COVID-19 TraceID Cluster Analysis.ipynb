{
 "cells": [
  {
   "cell_type": "markdown",
   "metadata": {},
   "source": [
    "## Task a) Number of Unique People per Cluster\n",
    "To compute the number of unique people in each cluster, which is represented by a unique trace ID across all 5 datasets."
   ]
  },
  {
   "cell_type": "code",
   "execution_count": null,
   "metadata": {},
   "outputs": [],
   "source": [
    "import pandas as pd\n",
    "\n",
    "df_f0_f1 = pd.read_csv('f0_f1.csv')\n",
    "df_f1_f2 = pd.read_csv('f1_f2.csv')\n",
    "df_f2_f3 = pd.read_csv('f2_f3.csv')\n",
    "df_f3_f4 = pd.read_csv('f3_f4.csv')\n",
    "df_f4_f5 = pd.read_csv('f4_f5.csv')\n",
    "\n",
    "print(df_f0_f1.head())\n",
    "print(df_f0_f1.tail())"
   ]
  },
  {
   "cell_type": "code",
   "execution_count": null,
   "metadata": {},
   "outputs": [],
   "source": [
    "print(df_f0_f1.shape)\n",
    "print(df_f1_f2.shape)\n",
    "print(df_f2_f3.shape)\n",
    "print(df_f3_f4.shape)\n",
    "print(df_f4_f5.shape)"
   ]
  },
  {
   "cell_type": "code",
   "execution_count": null,
   "metadata": {},
   "outputs": [],
   "source": [
    "df_f5 = df_f4_f5[['trace_id','f5']].sort_values('trace_id') \n",
    "df_f5 # extracting f5 values"
   ]
  },
  {
   "cell_type": "code",
   "execution_count": null,
   "metadata": {},
   "outputs": [],
   "source": [
    "df_f5.duplicated().sum()"
   ]
  },
  {
   "cell_type": "code",
   "execution_count": null,
   "metadata": {},
   "outputs": [],
   "source": [
    "df_f5_nodupli = df_f5.drop_duplicates()\n",
    "df_f5_nodupli.shape # unique f5 based on traceID "
   ]
  },
  {
   "cell_type": "code",
   "execution_count": null,
   "metadata": {},
   "outputs": [],
   "source": [
    "#extracting f4 data\n",
    "df_f4_1 = df_f3_f4[['trace_id','f4']].sort_values('trace_id') \n",
    "df_f4_2 = df_f4_f5[['trace_id','f4']].sort_values('trace_id') "
   ]
  },
  {
   "cell_type": "code",
   "execution_count": null,
   "metadata": {},
   "outputs": [],
   "source": [
    "# check the dimension\n",
    "print(df_f4_1.shape)\n",
    "print(df_f4_2.shape)"
   ]
  },
  {
   "cell_type": "code",
   "execution_count": null,
   "metadata": {},
   "outputs": [],
   "source": [
    "# dropping duplicates\n",
    "print(df_f4_1.duplicated().sum())\n",
    "print(df_f4_2.duplicated().sum())"
   ]
  },
  {
   "cell_type": "code",
   "execution_count": null,
   "metadata": {},
   "outputs": [],
   "source": [
    "df_f4_1_nodupli = df_f4_1.drop_duplicates()\n",
    "df_f4_2_nodupli = df_f4_2.drop_duplicates()\n",
    "\n",
    "# verify using dimension\n",
    "print(df_f4_1_nodupli.shape)\n",
    "print(df_f4_2_nodupli.shape)"
   ]
  },
  {
   "cell_type": "code",
   "execution_count": null,
   "metadata": {},
   "outputs": [],
   "source": [
    "# merging to get full F4 data\n",
    "df_f4_nodupli = df_f4_1_nodupli.merge(df_f4_2_nodupli, left_on=['trace_id','f4'], right_on=['trace_id','f4'], how='outer')\n",
    "df_f4_nodupli.duplicated().sum() # check"
   ]
  },
  {
   "cell_type": "code",
   "execution_count": null,
   "metadata": {},
   "outputs": [],
   "source": [
    "#extracting f3 data\n",
    "df_f3_1 = df_f2_f3[['trace_id','f3']].sort_values('trace_id') \n",
    "df_f3_2 = df_f3_f4[['trace_id','f3']].sort_values('trace_id') "
   ]
  },
  {
   "cell_type": "code",
   "execution_count": null,
   "metadata": {},
   "outputs": [],
   "source": [
    "# check the dimension\n",
    "print(df_f3_1.shape)\n",
    "print(df_f3_2.shape)"
   ]
  },
  {
   "cell_type": "code",
   "execution_count": null,
   "metadata": {},
   "outputs": [],
   "source": [
    "# dropping duplicates\n",
    "print(df_f3_1.duplicated().sum())\n",
    "print(df_f3_2.duplicated().sum())"
   ]
  },
  {
   "cell_type": "code",
   "execution_count": null,
   "metadata": {},
   "outputs": [],
   "source": [
    "df_f3_1_nodupli = df_f3_1.drop_duplicates()\n",
    "df_f3_2_nodupli = df_f3_2.drop_duplicates()\n",
    "\n",
    "# verify using dimension\n",
    "print(df_f3_1_nodupli.shape)\n",
    "print(df_f3_2_nodupli.shape)"
   ]
  },
  {
   "cell_type": "code",
   "execution_count": null,
   "metadata": {},
   "outputs": [],
   "source": [
    "# merging to get full F3 data\n",
    "df_f3_nodupli = df_f3_1_nodupli.merge(df_f3_2_nodupli, left_on=['trace_id','f3'], right_on=['trace_id','f3'], how='outer')\n",
    "df_f3_nodupli.duplicated().sum() # validate"
   ]
  },
  {
   "cell_type": "code",
   "execution_count": null,
   "metadata": {},
   "outputs": [],
   "source": [
    "#extracting f2 data\n",
    "df_f2_1 = df_f1_f2[['trace_id','f2']].sort_values('trace_id') \n",
    "df_f2_2 = df_f2_f3[['trace_id','f2']].sort_values('trace_id') "
   ]
  },
  {
   "cell_type": "code",
   "execution_count": null,
   "metadata": {},
   "outputs": [],
   "source": [
    "# check the dimension\n",
    "print(df_f2_1.shape)\n",
    "print(df_f2_2.shape)"
   ]
  },
  {
   "cell_type": "code",
   "execution_count": null,
   "metadata": {},
   "outputs": [],
   "source": [
    "# drop duplicates\n",
    "print(df_f2_1.duplicated().sum())\n",
    "print(df_f2_2.duplicated().sum())"
   ]
  },
  {
   "cell_type": "code",
   "execution_count": null,
   "metadata": {},
   "outputs": [],
   "source": [
    "df_f2_1_nodupli = df_f2_1.drop_duplicates()\n",
    "df_f2_2_nodupli = df_f2_2.drop_duplicates()\n",
    "\n",
    "# verify using dimension\n",
    "print(df_f2_1_nodupli.shape)\n",
    "print(df_f2_2_nodupli.shape)"
   ]
  },
  {
   "cell_type": "code",
   "execution_count": null,
   "metadata": {},
   "outputs": [],
   "source": [
    "# merging to get full F2 data\n",
    "df_f2_nodupli = df_f2_1_nodupli.merge(df_f2_2_nodupli, left_on=['trace_id','f2'], right_on=['trace_id','f2'], how='outer')\n",
    "df_f2_nodupli.duplicated().sum() # check"
   ]
  },
  {
   "cell_type": "code",
   "execution_count": null,
   "metadata": {},
   "outputs": [],
   "source": [
    "df_f1 = df_f1_f2[['trace_id','f1']].sort_values('trace_id') \n",
    "# trying to get unique f1 from DF\n",
    "df_f1"
   ]
  },
  {
   "cell_type": "code",
   "execution_count": null,
   "metadata": {},
   "outputs": [],
   "source": [
    "df_f1.duplicated().sum()"
   ]
  },
  {
   "cell_type": "code",
   "execution_count": null,
   "metadata": {},
   "outputs": [],
   "source": [
    "df_f1_nodupli = df_f1.drop_duplicates()\n",
    "df_f1_nodupli.shape # unique f5 based on traceID "
   ]
  },
  {
   "cell_type": "code",
   "execution_count": null,
   "metadata": {},
   "outputs": [],
   "source": [
    "df_f1_nodupli.rename(columns={'f1': 'people'},inplace=True)\n",
    "df_f2_nodupli.rename(columns={'f2': 'people'},inplace=True)\n",
    "df_f3_nodupli.rename(columns={'f3': 'people'},inplace=True)\n",
    "df_f4_nodupli.rename(columns={'f4': 'people'},inplace=True)\n",
    "df_f5_nodupli.rename(columns={'f5': 'people'},inplace=True)\n"
   ]
  },
  {
   "cell_type": "code",
   "execution_count": null,
   "metadata": {},
   "outputs": [],
   "source": [
    "# concat\n",
    "concat_f1_f5 = pd.concat([df_f1_nodupli,df_f2_nodupli,df_f3_nodupli,df_f4_nodupli,df_f5_nodupli], axis=0)\n",
    "Concat_f1_f5 = concat_f1_f5.reset_index(drop=True)\n",
    "Concat_f1_f5"
   ]
  },
  {
   "cell_type": "code",
   "execution_count": null,
   "metadata": {},
   "outputs": [],
   "source": [
    "Concat_f1_f5.sort_values('trace_id').head(10)"
   ]
  },
  {
   "cell_type": "code",
   "execution_count": null,
   "metadata": {},
   "outputs": [],
   "source": [
    "Concat_f1_f5.groupby('trace_id')['people'].nunique()"
   ]
  },
  {
   "cell_type": "markdown",
   "metadata": {},
   "source": [
    "## Task b) People Count Visualization\n",
    "A histogram visualising the number of people per cluster, followed by an analysis of the output."
   ]
  },
  {
   "cell_type": "code",
   "execution_count": null,
   "metadata": {},
   "outputs": [],
   "source": [
    "%matplotlib inline\n",
    "import matplotlib.pyplot as plt \n",
    "\n",
    "f1_f5_unique = Concat_f1_f5.groupby('trace_id')['people'].nunique()"
   ]
  },
  {
   "cell_type": "code",
   "execution_count": null,
   "metadata": {},
   "outputs": [],
   "source": [
    "f1_f5_unique_DF = pd.DataFrame({'trace_id':f1_f5_unique.index, 'people':f1_f5_unique.values})\n",
    "f1_f5_unique_DF"
   ]
  },
  {
   "cell_type": "code",
   "execution_count": null,
   "metadata": {},
   "outputs": [],
   "source": [
    "fig = plt.figure()\n",
    "people_noOfCluster = fig.add_subplot(1,1,1)\n",
    "people_noOfCluster.hist(f1_f5_unique_DF['people'],bins=15)\n",
    "people_noOfCluster.set_xlabel('People')\n",
    "people_noOfCluster.set_ylabel('No. of Cluster')\n",
    "people_noOfCluster"
   ]
  },
  {
   "cell_type": "markdown",
   "metadata": {},
   "source": [
    "### Insights Drawn For Task b:\n",
    "Based on the diagram above, we observe that \n",
    "- Majority of the clusters recorded involved less than 5 people\n",
    "- Very few cases of superspreader (i.e. less than 5 clusters involved more than 40 people)."
   ]
  },
  {
   "cell_type": "markdown",
   "metadata": {},
   "source": [
    "## Task c) People Not Involved in Any Cluster\n",
    "Identify all people who are not part of any cluster (those with no close contact)."
   ]
  },
  {
   "cell_type": "code",
   "execution_count": null,
   "metadata": {},
   "outputs": [],
   "source": [
    "peopleDF = pd.read_csv('people.csv')\n",
    "peopleDF"
   ]
  },
  {
   "cell_type": "code",
   "execution_count": null,
   "metadata": {},
   "outputs": [],
   "source": [
    "# merge Concat_f1_f5 with people.csv using people ID\n",
    "people_f1_f5_merge = peopleDF.merge(Concat_f1_f5, left_on=['index'], right_on=['people'], how='outer')\n",
    "POneg_NoCC_People_noNull = people_f1_f5_merge.fillna(0) "
   ]
  },
  {
   "cell_type": "code",
   "execution_count": null,
   "metadata": {},
   "outputs": [],
   "source": [
    "POneg_NoCC_People = POneg_NoCC_People_noNull.query('trace_id == 0')"
   ]
  },
  {
   "cell_type": "code",
   "execution_count": null,
   "metadata": {},
   "outputs": [],
   "source": [
    "POneg_NoCC_Peopl_Final = POneg_NoCC_People[['index','name']].reset_index(drop=True)\n",
    "POneg_NoCC_Peopl_Final"
   ]
  },
  {
   "cell_type": "markdown",
   "metadata": {},
   "source": [
    "## Task d) Tracing Paths through a Specified Person\n",
    "Design a function (```GetTracingPaths```) to find all tracing paths passing through a specified person ID in a given cluster."
   ]
  },
  {
   "cell_type": "code",
   "execution_count": null,
   "metadata": {},
   "outputs": [],
   "source": [
    "df_f0_f1\n",
    "df_f1_f2\n",
    "df_f2_f3\n",
    "df_f3_f4\n",
    "df_f4_f5.head()"
   ]
  },
  {
   "cell_type": "code",
   "execution_count": null,
   "metadata": {},
   "outputs": [],
   "source": [
    "df_f0_f2 = df_f0_f1.merge(df_f1_f2, on=['trace_id','f1'], how='outer')\n",
    "df_f0_f3 = df_f0_f2.merge(df_f2_f3, on=['trace_id','f2'], how='outer')\n",
    "df_f0_f4 = df_f0_f3.merge(df_f3_f4, on=['trace_id','f3'], how='outer')\n",
    "df_f0_f5 = df_f0_f4.merge(df_f4_f5, on=['trace_id','f4'], how='outer')\n",
    "df_f0_f5_sorted = df_f0_f5[['trace_id','f0','f1','f2','f3','f4','f5']].reset_index(drop=True)\n",
    "df_f0_f5_sorted.shape"
   ]
  },
  {
   "cell_type": "code",
   "execution_count": null,
   "metadata": {},
   "outputs": [],
   "source": [
    "print(df_f0_f5_sorted.duplicated().sum())\n",
    "df_f0_f5_sorted.duplicated().head(25)"
   ]
  },
  {
   "cell_type": "code",
   "execution_count": null,
   "metadata": {},
   "outputs": [],
   "source": [
    "df_f0_f5_noDupli = df_f0_f5_sorted.drop_duplicates()\n",
    "df_f0_f5_noDupli.shape"
   ]
  },
  {
   "cell_type": "code",
   "execution_count": null,
   "metadata": {},
   "outputs": [],
   "source": [
    "df_f0_f5_noDupli"
   ]
  },
  {
   "cell_type": "code",
   "execution_count": null,
   "metadata": {},
   "outputs": [],
   "source": [
    "def GetTracingPaths(personID, traceID):\n",
    "    cluster = df_f0_f5_noDupli.loc[(df_f0_f5_noDupli['trace_id'] == traceID)]\n",
    "    tracingPath = cluster[cluster.isin([personID]).any(axis=1)].reset_index(drop=True)\n",
    "    tracingPath_final = tracingPath[['f0','f1','f2','f3','f4','f5']]\n",
    "    tracingPath_final.sort_values(by=['f0','f1','f2','f3'], inplace=True)\n",
    "    return tracingPath_final.reset_index(drop=True)"
   ]
  },
  {
   "cell_type": "code",
   "execution_count": null,
   "metadata": {},
   "outputs": [],
   "source": [
    "GetTracingPaths('PERSON_0000000067','TRACE_PERSON_0000000379')"
   ]
  },
  {
   "cell_type": "markdown",
   "metadata": {},
   "source": [
    "## Task e) Direct and Indirect Relationships\n",
    "Design a function that checks if there’s a direct or indirect infection path between two people in a given trace ID."
   ]
  },
  {
   "cell_type": "code",
   "execution_count": null,
   "metadata": {},
   "outputs": [],
   "source": [
    "import numpy as np\n",
    "\n",
    "def GetInfectionRelationship(traceID, frm_ID, to_ID):\n",
    "    FrmIndex_dict = {}\n",
    "    ToIndex_dict = {}\n",
    "    cluster = df_f0_f5_noDupli.loc[(df_f0_f5_noDupli['trace_id'] == traceID)]\n",
    "    tracingPath = cluster[(cluster.isin([frm_ID]).any(axis=1)) & (cluster.isin([to_ID]).any(axis=1)) ]\n",
    "    tracingPath_NoTraceID = tracingPath[['f0','f1','f2','f3','f4','f5']]\n",
    "    tracingPath_NoTraceID.sort_values(by=['f0','f1','f2','f3'], inplace=True)\n",
    "    tracingPath_NoTraceID.rename(columns={'f0': 0, 'f1': 1, 'f2': 2, 'f3': 3, 'f4': 4, 'f5': 5}, inplace=True)\n",
    "    tracingPath_final = tracingPath_NoTraceID.reset_index(drop=True)\n",
    "    \n",
    "    Frmresult = tracingPath_final.isin([frm_ID])\n",
    "    FrmObj = Frmresult.any()\n",
    "    FrmcolumnNames = list(FrmObj[FrmObj == True].index)\n",
    "    for Fcol in FrmcolumnNames:\n",
    "        Frows = list(Frmresult[Fcol][Frmresult[Fcol] == True].index)\n",
    "        for Frow in Frows:\n",
    "            FrmIndex_dict[Frow]=Fcol\n",
    "\n",
    "    Toresult = tracingPath_final.isin([to_ID])\n",
    "    ToObj = Toresult.any()\n",
    "    TocolumnNames = list(ToObj[ToObj == True].index)\n",
    "    for Tcol in TocolumnNames:\n",
    "        Trows = list(Toresult[Tcol][Toresult[Tcol] == True].index)\n",
    "\n",
    "        for Trow in Trows:\n",
    "            ToIndex_dict[Trow]=Tcol\n",
    "            \n",
    "    for Fr, Fc in FrmIndex_dict.items():\n",
    "        tracingPath_final.loc[Fr, :Fc-1] = np.nan\n",
    "    for Tr, Tc in ToIndex_dict.items():\n",
    "        tracingPath_final.loc[Tr, Tc+1:] = np.nan\n",
    "    \n",
    "    return tracingPath_final"
   ]
  },
  {
   "cell_type": "code",
   "execution_count": null,
   "metadata": {},
   "outputs": [],
   "source": [
    "GetInfectionRelationship('TRACE_PERSON_0000000379','PERSON_0000000054','PERSON_0000000067' )"
   ]
  },
  {
   "cell_type": "markdown",
   "metadata": {},
   "source": [
    "## Task f) Network Visualization of Tracing Paths\n",
    "Visualise the tracing paths using NetworkX to show the network of people infected (directly or indirectly) within a specified cluster."
   ]
  },
  {
   "cell_type": "code",
   "execution_count": null,
   "metadata": {},
   "outputs": [],
   "source": [
    "import itertools\n",
    "import copy\n",
    "import networkx as nx\n",
    "import pandas as pd\n",
    "import matplotlib.pyplot as plt\n",
    "\n",
    "edgelist = GetTracingPaths('PERSON_0000000067','TRACE_PERSON_0000000379')\n",
    "\n",
    "TracingPathGraph = nx.Graph()\n",
    "for i, elrow in edgelist.iterrows():\n",
    "    TracingPathGraph.add_edge(elrow[0], elrow[1], label='f0_f1')\n",
    "    TracingPathGraph.add_edge(elrow[1], elrow[2], label='f1_f2')\n",
    "    TracingPathGraph.add_edge(elrow[2], elrow[3], label='f2_f3')\n",
    "    TracingPathGraph.add_edge(elrow[3], elrow[4], label='f3_f4')\n",
    "    TracingPathGraph.add_edge(elrow[4], elrow[5], label='f4_f5')\n",
    "\n",
    "edge_list = list(TracingPathGraph.edges(data=True))\n",
    "g_cpp = nx.Graph(edge_list)\n",
    "\n",
    "plt.figure(figsize=(17, 10))\n",
    "plt.title('Graph Representation of All Tracing Paths', size=20)\n",
    "\n",
    "edge_labels = nx.get_edge_attributes(g_cpp, 'label')\n",
    "nx.draw(TracingPathGraph, pos=nx.spring_layout(TracingPathGraph,seed=2564973113) , node_size=500, node_color= '#e3acb3', alpha=0.5, with_labels=True)\n",
    "nx.draw_networkx_edge_labels(g_cpp, pos=nx.spring_layout(TracingPathGraph,seed=2564973113), edge_labels=edge_labels, font_color= '#e14b00', with_labels=True)\n",
    "\n",
    "plt.tight_layout()\n",
    "plt.axis(\"off\")\n",
    "plt.show()"
   ]
  }
 ],
 "metadata": {
  "kernelspec": {
   "display_name": "Python 3 (ipykernel)",
   "language": "python",
   "name": "python3"
  },
  "language_info": {
   "codemirror_mode": {
    "name": "ipython",
    "version": 3
   },
   "file_extension": ".py",
   "mimetype": "text/x-python",
   "name": "python",
   "nbconvert_exporter": "python",
   "pygments_lexer": "ipython3",
   "version": "3.9.7"
  }
 },
 "nbformat": 4,
 "nbformat_minor": 4
}
